{
 "cells": [
  {
   "cell_type": "markdown",
   "metadata": {
    "application/vnd.databricks.v1+cell": {
     "cellMetadata": {},
     "inputWidgets": {},
     "nuid": "4635e876-78da-448b-b03b-45e8710e3d04",
     "showTitle": false,
     "tableResultSettingsMap": {},
     "title": ""
    }
   },
   "source": [
    "The goal of this notebook is to model serve via vLLM the Large MoE model Qwen3 235B A22B within Databricks (as an all purpose cluster). \n",
    "- The original author of this notebook is [Srinivas Billa](https://github.com/nivibilla).\n",
    "- Requires an instance type of g6e.48xlarge or larger to run.\n",
    "- Future goal: To get serverless involved in serving large MoE models such as Qwen3 (not only PaaS)"
   ]
  },
  {
   "cell_type": "code",
   "execution_count": 0,
   "metadata": {
    "application/vnd.databricks.v1+cell": {
     "cellMetadata": {
      "byteLimit": 2048000,
      "rowLimit": 10000
     },
     "inputWidgets": {},
     "nuid": "1d51c5e1-a13d-4808-bbfb-a50fd254ba07",
     "showTitle": false,
     "tableResultSettingsMap": {},
     "title": ""
    }
   },
   "outputs": [
    {
     "output_type": "stream",
     "name": "stdout",
     "output_type": "stream",
     "text": [
      "Collecting uv\n  Downloading uv-0.8.17-py3-none-manylinux_2_17_x86_64.manylinux2014_x86_64.whl.metadata (11 kB)\nDownloading uv-0.8.17-py3-none-manylinux_2_17_x86_64.manylinux2014_x86_64.whl (21.1 MB)\n\u001B[?25l   \u001B[90m━━━━━━━━━━━━━━━━━━━━━━━━━━━━━━━━━━━━━━━━\u001B[0m \u001B[32m0.0/21.1 MB\u001B[0m \u001B[31m?\u001B[0m eta \u001B[36m-:--:--\u001B[0m\n\u001B[2K   \u001B[91m╸\u001B[0m\u001B[90m━━━━━━━━━━━━━━━━━━━━━━━━━━━━━━━━━━━━━━━\u001B[0m \u001B[32m0.4/21.1 MB\u001B[0m \u001B[31m11.1 MB/s\u001B[0m eta \u001B[36m0:00:02\u001B[0m\n\u001B[2K   \u001B[91m━\u001B[0m\u001B[91m╸\u001B[0m\u001B[90m━━━━━━━━━━━━━━━━━━━━━━━━━━━━━━━━━━━━━━\u001B[0m \u001B[32m1.0/21.1 MB\u001B[0m \u001B[31m13.8 MB/s\u001B[0m eta \u001B[36m0:00:02\u001B[0m\n\u001B[2K   \u001B[91m━━━\u001B[0m\u001B[90m╺\u001B[0m\u001B[90m━━━━━━━━━━━━━━━━━━━━━━━━━━━━━━━━━━━━\u001B[0m \u001B[32m1.7/21.1 MB\u001B[0m \u001B[31m16.2 MB/s\u001B[0m eta \u001B[36m0:00:02\u001B[0m\n\u001B[2K   \u001B[91m━━━━\u001B[0m\u001B[91m╸\u001B[0m\u001B[90m━━━━━━━━━━━━━━━━━━━━━━━━━━━━━━━━━━━\u001B[0m \u001B[32m2.4/21.1 MB\u001B[0m \u001B[31m17.6 MB/s\u001B[0m eta \u001B[36m0:00:02\u001B[0m\n\u001B[2K   \u001B[91m━━━━━━\u001B[0m\u001B[91m╸\u001B[0m\u001B[90m━━━━━━━━━━━━━━━━━━━━━━━━━━━━━━━━━\u001B[0m \u001B[32m3.5/21.1 MB\u001B[0m \u001B[31m20.0 MB/s\u001B[0m eta \u001B[36m0:00:01\u001B[0m\n\u001B[2K   \u001B[91m━━━━━━━━━\u001B[0m\u001B[90m╺\u001B[0m\u001B[90m━━━━━━━━━━━━━━━━━━━━━━━━━━━━━━\u001B[0m \u001B[32m4.8/21.1 MB\u001B[0m \u001B[31m23.1 MB/s\u001B[0m eta \u001B[36m0:00:01\u001B[0m\n\u001B[2K   \u001B[91m━━━━━━━━━━━━\u001B[0m\u001B[90m╺\u001B[0m\u001B[90m━━━━━━━━━━━━━━━━━━━━━━━━━━━\u001B[0m \u001B[32m6.4/21.1 MB\u001B[0m \u001B[31m26.5 MB/s\u001B[0m eta \u001B[36m0:00:01\u001B[0m\n\u001B[2K   \u001B[91m━━━━━━━━━━━━━━━━\u001B[0m\u001B[91m╸\u001B[0m\u001B[90m━━━━━━━━━━━━━━━━━━━━━━━\u001B[0m \u001B[32m8.8/21.1 MB\u001B[0m \u001B[31m31.6 MB/s\u001B[0m eta \u001B[36m0:00:01\u001B[0m\n\u001B[2K   \u001B[91m━━━━━━━━━━━━━━━━━━━━━━\u001B[0m\u001B[90m╺\u001B[0m\u001B[90m━━━━━━━━━━━━━━━━━\u001B[0m \u001B[32m11.7/21.1 MB\u001B[0m \u001B[31m47.0 MB/s\u001B[0m eta \u001B[36m0:00:01\u001B[0m\n\u001B[2K   \u001B[91m━━━━━━━━━━━━━━━━━━━━━━━━━━━━━\u001B[0m\u001B[90m╺\u001B[0m\u001B[90m━━━━━━━━━━\u001B[0m \u001B[32m15.5/21.1 MB\u001B[0m \u001B[31m78.9 MB/s\u001B[0m eta \u001B[36m0:00:01\u001B[0m\n\u001B[2K   \u001B[91m━━━━━━━━━━━━━━━━━━━━━━━━━━━━━━━━━━━━━━\u001B[0m\u001B[91m╸\u001B[0m\u001B[90m━\u001B[0m \u001B[32m20.5/21.1 MB\u001B[0m \u001B[31m119.4 MB/s\u001B[0m eta \u001B[36m0:00:01\u001B[0m\n\u001B[2K   \u001B[91m━━━━━━━━━━━━━━━━━━━━━━━━━━━━━━━━━━━━━━━\u001B[0m\u001B[91m╸\u001B[0m \u001B[32m21.1/21.1 MB\u001B[0m \u001B[31m121.3 MB/s\u001B[0m eta \u001B[36m0:00:01\u001B[0m\n\u001B[2K   \u001B[90m━━━━━━━━━━━━━━━━━━━━━━━━━━━━━━━━━━━━━━━━\u001B[0m \u001B[32m21.1/21.1 MB\u001B[0m \u001B[31m70.0 MB/s\u001B[0m eta \u001B[36m0:00:00\u001B[0m\n\u001B[?25hInstalling collected packages: uv\nSuccessfully installed uv-0.8.17\n\u001B[43mNote: you may need to restart the kernel using %restart_python or dbutils.library.restartPython() to use updated packages.\u001B[0m\n"
     ]
    }
   ],
   "source": [
    "!pip install uv\n",
    "dbutils.library.restartPython()"
   ]
  },
  {
   "cell_type": "code",
   "execution_count": 0,
   "metadata": {
    "application/vnd.databricks.v1+cell": {
     "cellMetadata": {
      "byteLimit": 2048000,
      "rowLimit": 10000
     },
     "inputWidgets": {},
     "nuid": "aad336aa-773e-4b92-8625-f2f2c0984c17",
     "showTitle": false,
     "tableResultSettingsMap": {},
     "title": ""
    }
   },
   "outputs": [
    {
     "output_type": "stream",
     "name": "stdout",
     "output_type": "stream",
     "text": [
      "\u001B[2mUsing Python 3.12.3 environment at: /local_disk0/.ephemeral_nfs/envs/pythonEnv-edf3d31a-82bd-49bb-9289-567175bcca4f\u001B[0m\r\n\u001B[37m⠋\u001B[0m \u001B[2mResolving dependencies...                                                     \u001B[0m\r\u001B[2K\u001B[37m⠙\u001B[0m \u001B[2mResolving dependencies...                                                     \u001B[0m\r\u001B[2K\u001B[37m⠋\u001B[0m \u001B[2mResolving dependencies...                                                     \u001B[0m\r\u001B[2K\u001B[37m⠙\u001B[0m \u001B[2mResolving dependencies...                                                     \u001B[0m\r\u001B[2K\u001B[37m⠙\u001B[0m \u001B[2mhuggingface-hub==0.35.0                                                       \u001B[0m\r\u001B[2K\u001B[37m⠙\u001B[0m \u001B[2mfilelock==3.19.1                                                              \u001B[0m\r\u001B[2K\u001B[37m⠙\u001B[0m \u001B[2mfsspec==2025.9.0                                                              \u001B[0m\r\u001B[2K\u001B[37m⠙\u001B[0m \u001B[2mpackaging==25.0                                                               \u001B[0m\r\u001B[2K\u001B[37m⠙\u001B[0m \u001B[2mpyyaml==6.0.2                                                                 \u001B[0m\r\u001B[2K\u001B[37m⠙\u001B[0m \u001B[2mrequests==2.32.5                                                              \u001B[0m\r\u001B[2K\u001B[37m⠙\u001B[0m \u001B[2mtqdm==4.67.1                                                                  \u001B[0m\r\u001B[2K\u001B[37m⠙\u001B[0m \u001B[2mtyping-extensions==4.15.0                                                     \u001B[0m\r\u001B[2K\u001B[37m⠙\u001B[0m \u001B[2mhf-xet==1.1.10                                                                \u001B[0m\r\u001B[2K\u001B[37m⠙\u001B[0m \u001B[2mhf-xet==1.1.10                                                                \u001B[0m\r\u001B[2K\u001B[37m⠙\u001B[0m \u001B[2mcharset-normalizer==3.4.3                                                     \u001B[0m\r\u001B[2K\u001B[37m⠙\u001B[0m \u001B[2midna==3.10                                                                    \u001B[0m\r\u001B[2K\u001B[37m⠙\u001B[0m \u001B[2murllib3==2.5.0                                                                \u001B[0m\r\u001B[2K\u001B[37m⠙\u001B[0m \u001B[2mcertifi==2025.8.3                                                             \u001B[0m\r\u001B[2K\u001B[37m⠙\u001B[0m \u001B[2m                                                                              \u001B[0m\r\u001B[2K\u001B[2mResolved \u001B[1m13 packages\u001B[0m \u001B[2min 115ms\u001B[0m\u001B[0m\r\n\u001B[37m⠋\u001B[0m \u001B[2mPreparing packages...\u001B[0m (0/0)                                                   \r\u001B[2K\u001B[37m⠋\u001B[0m \u001B[2mPreparing packages...\u001B[0m (0/13)                                                  \r\u001B[2K\u001B[37m⠙\u001B[0m \u001B[2mPreparing packages...\u001B[0m (0/13)                                                  \r\u001B[2K\u001B[37m⠙\u001B[0m \u001B[2mPreparing packages...\u001B[0m (0/13)\r\n\u001B[2mfilelock            \u001B[0m \u001B[32m\u001B[2m------------------------------\u001B[0m\u001B[0m     0 B/15.61 KiB           \u001B[1A\r\u001B[2K\u001B[1B\r\u001B[2K\u001B[1A\u001B[37m⠙\u001B[0m \u001B[2mPreparing packages...\u001B[0m (0/13)\r\n\u001B[2mfilelock            \u001B[0m \u001B[32m\u001B[2m------------------------------\u001B[0m\u001B[0m     0 B/15.61 KiB           \u001B[1A\r\u001B[2K\u001B[1B\r\u001B[2K\u001B[1A\u001B[37m⠙\u001B[0m \u001B[2mPreparing packages...\u001B[0m (0/13)\r\n\u001B[2mfilelock            \u001B[0m \u001B[32m\u001B[2m------------------------------\u001B[0m\u001B[0m     0 B/15.61 KiB\r\n\u001B[2mpackaging           \u001B[0m \u001B[32m\u001B[2m------------------------------\u001B[0m\u001B[0m     0 B/64.91 KiB           \u001B[2A\r\u001B[2K\u001B[1B\r\u001B[2K\u001B[1B\r\u001B[2K\u001B[2A\u001B[37m⠙\u001B[0m \u001B[2mPreparing packages...\u001B[0m (0/13)\r\n\u001B[2mfilelock            \u001B[0m \u001B[32m\u001B[2m------------------------------\u001B[0m\u001B[0m     0 B/15.61 KiB\r\n\u001B[2mpackaging           \u001B[0m \u001B[32m\u001B[2m------------------------------\u001B[0m\u001B[0m     0 B/64.91 KiB           \u001B[2A\r\u001B[2K\u001B[1B\r\u001B[2K\u001B[1B\r\u001B[2K\u001B[2A\u001B[37m⠙\u001B[0m \u001B[2mPreparing packages...\u001B[0m (0/13)\r\n\u001B[2mfilelock            \u001B[0m \u001B[32m\u001B[2m------------------------------\u001B[0m\u001B[0m     0 B/15.61 KiB\r\n\u001B[2mpackaging           \u001B[0m \u001B[32m\u001B[2m------------------------------\u001B[0m\u001B[0m     0 B/64.91 KiB           \u001B[2A\r\u001B[2K\u001B[1B\r\u001B[2K\u001B[1B\r\u001B[2K\u001B[2A\u001B[37m⠙\u001B[0m \u001B[2mPreparing packages...\u001B[0m (0/13)\r\n\u001B[2mfilelock            \u001B[0m \u001B[32m\u001B[2m------------------------------\u001B[0m\u001B[0m     0 B/15.61 KiB\r\n\u001B[2mrequests            \u001B[0m \u001B[32m\u001B[2m------------------------------\u001B[0m\u001B[0m     0 B/63.22 KiB\r\n\u001B[2mpackaging           \u001B[0m \u001B[32m\u001B[2m------------------------------\u001B[0m\u001B[0m     0 B/64.91 KiB           \u001B[3A\r\u001B[2K\u001B[1B\r\u001B[2K\u001B[1B\r\u001B[2K\u001B[1B\r\u001B[2K\u001B[3A\u001B[37m⠙\u001B[0m \u001B[2mPreparing packages...\u001B[0m (0/13)\r\n\u001B[2mfilelock            \u001B[0m \u001B[32m\u001B[2m------------------------------\u001B[0m\u001B[0m     0 B/15.61 KiB\r\n\u001B[2mrequests            \u001B[0m \u001B[32m\u001B[2m------------------------------\u001B[0m\u001B[0m     0 B/63.22 KiB\r\n\u001B[2mpackaging           \u001B[0m \u001B[32m\u001B[2m------------------------------\u001B[0m\u001B[0m     0 B/64.91 KiB           \u001B[3A\r\u001B[2K\u001B[1B\r\u001B[2K\u001B[1B\r\u001B[2K\u001B[1B\r\u001B[2K\u001B[3A\u001B[37m⠙\u001B[0m \u001B[2mPreparing packages...\u001B[0m (0/13)\r\n\u001B[2mfilelock            \u001B[0m \u001B[32m\u001B[2m------------------------------\u001B[0m\u001B[0m     0 B/15.61 KiB\r\n\u001B[2mrequests            \u001B[0m \u001B[32m\u001B[2m------------------------------\u001B[0m\u001B[0m     0 B/63.22 KiB\r\n\u001B[2mpackaging           \u001B[0m \u001B[32m\u001B[2m------------------------------\u001B[0m\u001B[0m     0 B/64.91 KiB           \u001B[3A\r\u001B[2K\u001B[1B\r\u001B[2K\u001B[1B\r\u001B[2K\u001B[1B\r\u001B[2K\u001B[3A\u001B[37m⠙\u001B[0m \u001B[2mPreparing packages...\u001B[0m (0/13)\r\n\u001B[2mfilelock            \u001B[0m \u001B[32m\u001B[2m------------------------------\u001B[0m\u001B[0m     0 B/15.61 KiB\r\n\u001B[2mrequests            \u001B[0m \u001B[32m\u001B[2m------------------------------\u001B[0m\u001B[0m     0 B/63.22 KiB\r\n\u001B[2mpackaging           \u001B[0m \u001B[32m\u001B[2m------------------------------\u001B[0m\u001B[0m     0 B/64.91 KiB           \u001B[3A\r\u001B[2K\u001B[1B\r\u001B[2K\u001B[1B\r\u001B[2K\u001B[1B\r\u001B[2K\u001B[3A\u001B[37m⠙\u001B[0m \u001B[2mPreparing packages...\u001B[0m (0/13)\r\n\u001B[2mfilelock            \u001B[0m \u001B[32m\u001B[2m------------------------------\u001B[0m\u001B[0m     0 B/15.61 KiB\r\n\u001B[2mtyping-extensions   \u001B[0m \u001B[32m\u001B[2m------------------------------\u001B[0m\u001B[0m     0 B/43.57 KiB\r\n\u001B[2mrequests            \u001B[0m \u001B[32m\u001B[2m------------------------------\u001B[0m\u001B[0m     0 B/63.22 KiB\r\n\u001B[2mpackaging           \u001B[0m \u001B[32m\u001B[2m------------------------------\u001B[0m\u001B[0m     0 B/64.91 KiB           \u001B[4A\r\u001B[2K\u001B[1B\r\u001B[2K\u001B[1B\r\u001B[2K\u001B[1B\r\u001B[2K\u001B[1B\r\u001B[2K\u001B[4A\u001B[37m⠙\u001B[0m \u001B[2mPreparing packages...\u001B[0m (0/13)\r\n\u001B[2mfilelock            \u001B[0m \u001B[32m-----------------------------\u001B[2m-\u001B[0m\u001B[0m 14.88 KiB/15.61 KiB\r\n\u001B[2mtyping-extensions   \u001B[0m \u001B[32m\u001B[2m------------------------------\u001B[0m\u001B[0m     0 B/43.57 KiB\r\n\u001B[2mrequests            \u001B[0m \u001B[32m\u001B[2m------------------------------\u001B[0m\u001B[0m     0 B/63.22 KiB\r\n\u001B[2mpackaging           \u001B[0m \u001B[32m\u001B[2m------------------------------\u001B[0m\u001B[0m     0 B/64.91 KiB           \u001B[4A\r\u001B[2K\u001B[1B\r\u001B[2K\u001B[1B\r\u001B[2K\u001B[1B\r\u001B[2K\u001B[1B\r\u001B[2K\u001B[4A\u001B[37m⠙\u001B[0m \u001B[2mPreparing packages...\u001B[0m (0/13)\r\n\u001B[2mfilelock            \u001B[0m \u001B[32m-----------------------------\u001B[2m-\u001B[0m\u001B[0m 14.88 KiB/15.61 KiB\r\n\u001B[2mtyping-extensions   \u001B[0m \u001B[32m\u001B[2m------------------------------\u001B[0m\u001B[0m     0 B/43.57 KiB\r\n\u001B[2mrequests            \u001B[0m \u001B[32m\u001B[2m------------------------------\u001B[0m\u001B[0m     0 B/63.22 KiB\r\n\u001B[2mpackaging           \u001B[0m \u001B[32m-------\u001B[2m-----------------------\u001B[0m\u001B[0m 14.88 KiB/64.91 KiB         \u001B[4A\r\u001B[2K\u001B[1B\r\u001B[2K\u001B[1B\r\u001B[2K\u001B[1B\r\u001B[2K\u001B[1B\r\u001B[2K\u001B[4A\u001B[37m⠙\u001B[0m \u001B[2mPreparing packages...\u001B[0m (0/13)\r\n\u001B[2mfilelock            \u001B[0m \u001B[32m-----------------------------\u001B[2m-\u001B[0m\u001B[0m 14.88 KiB/15.61 KiB\r\n\u001B[2mtyping-extensions   \u001B[0m \u001B[32m\u001B[2m------------------------------\u001B[0m\u001B[0m     0 B/43.57 KiB\r\n\u001B[2mrequests            \u001B[0m \u001B[32m--------\u001B[2m----------------------\u001B[0m\u001B[0m 14.88 KiB/63.22 KiB\r\n\u001B[2mpackaging           \u001B[0m \u001B[32m-------\u001B[2m-----------------------\u001B[0m\u001B[0m 14.88 KiB/64.91 KiB         \u001B[4A\r\u001B[2K\u001B[1B\r\u001B[2K\u001B[1B\r\u001B[2K\u001B[1B\r\u001B[2K\u001B[1B\r\u001B[2K\u001B[4A\u001B[37m⠙\u001B[0m \u001B[2mPreparing packages...\u001B[0m (0/13)\r\n\u001B[2mfilelock            \u001B[0m \u001B[32m-----------------------------\u001B[2m-\u001B[0m\u001B[0m 14.88 KiB/15.61 KiB\r\n\u001B[2mtyping-extensions   \u001B[0m \u001B[32m\u001B[2m------------------------------\u001B[0m\u001B[0m     0 B/43.57 KiB\r\n\u001B[2mrequests            \u001B[0m \u001B[32m--------\u001B[2m----------------------\u001B[0m\u001B[0m 14.88 KiB/63.22 KiB\r\n\u001B[2mpackaging           \u001B[0m \u001B[32m-------\u001B[2m-----------------------\u001B[0m\u001B[0m 14.88 KiB/64.91 KiB         \u001B[4A\r\u001B[2K\u001B[1B\r\u001B[2K\u001B[1B\r\u001B[2K\u001B[1B\r\u001B[2K\u001B[1B\r\u001B[2K\u001B[4A\u001B[37m⠙\u001B[0m \u001B[2mPreparing packages...\u001B[0m (0/13)\r\n\u001B[2mfilelock            \u001B[0m \u001B[32m-----------------------------\u001B[2m-\u001B[0m\u001B[0m 14.88 KiB/15.61 KiB\r\n\u001B[2mtyping-extensions   \u001B[0m \u001B[32m\u001B[2m------------------------------\u001B[0m\u001B[0m     0 B/43.57 KiB\r\n\u001B[2mrequests            \u001B[0m \u001B[32m--------\u001B[2m----------------------\u001B[0m\u001B[0m 14.88 KiB/63.22 KiB\r\n\u001B[2mpackaging           \u001B[0m \u001B[32m-------\u001B[2m-----------------------\u001B[0m\u001B[0m 14.88 KiB/64.91 KiB         \u001B[4A\r\u001B[2K\u001B[1B\r\u001B[2K\u001B[1B\r\u001B[2K\u001B[1B\r\u001B[2K\u001B[1B\r\u001B[2K\u001B[4A\u001B[37m⠙\u001B[0m \u001B[2mPreparing packages...\u001B[0m (0/13)\r\n\u001B[2mfilelock            \u001B[0m \u001B[32m-----------------------------\u001B[2m-\u001B[0m\u001B[0m 14.88 KiB/15.61 KiB\r\n\u001B[2mtyping-extensions   \u001B[0m \u001B[32m\u001B[2m------------------------------\u001B[0m\u001B[0m     0 B/43.57 KiB\r\n\u001B[2mrequests            \u001B[0m \u001B[32m--------\u001B[2m----------------------\u001B[0m\u001B[0m 14.88 KiB/63.22 KiB\r\n\u001B[2mpackaging           \u001B[0m \u001B[32m-------\u001B[2m-----------------------\u001B[0m\u001B[0m 14.88 KiB/64.91 KiB         \u001B[4A\r\u001B[2K\u001B[1B\r\u001B[2K\u001B[1B\r\u001B[2K\u001B[1B\r\u001B[2K\u001B[1B\r\u001B[2K\u001B[4A\u001B[37m⠙\u001B[0m \u001B[2mPreparing packages...\u001B[0m (0/13)\r\n\u001B[2mfilelock            \u001B[0m \u001B[32m-----------------------------\u001B[2m-\u001B[0m\u001B[0m 14.88 KiB/15.61 KiB\r\n\u001B[2mtyping-extensions   \u001B[0m \u001B[32m\u001B[2m------------------------------\u001B[0m\u001B[0m     0 B/43.57 KiB\r\n\u001B[2mrequests            \u001B[0m \u001B[32m--------\u001B[2m----------------------\u001B[0m\u001B[0m 14.88 KiB/63.22 KiB\r\n\u001B[2mpackaging           \u001B[0m \u001B[32m-------\u001B[2m-----------------------\u001B[0m\u001B[0m 14.88 KiB/64.91 KiB         \u001B[4A\r\u001B[2K\u001B[1B\r\u001B[2K\u001B[1B\r\u001B[2K\u001B[1B\r\u001B[2K\u001B[1B\r\u001B[2K\u001B[4A\u001B[37m⠙\u001B[0m \u001B[2mPreparing packages...\u001B[0m (0/13)\r\n\u001B[2mtyping-extensions   \u001B[0m \u001B[32m------------\u001B[2m------------------\u001B[0m\u001B[0m 16.00 KiB/43.57 KiB\r\n\u001B[2mrequests            \u001B[0m \u001B[32m--------\u001B[2m----------------------\u001B[0m\u001B[0m 14.88 KiB/63.22 KiB\r\n\u001B[2mpackaging           \u001B[0m \u001B[32m---------------\u001B[2m---------------\u001B[0m\u001B[0m 30.88 KiB/64.91 KiB\r\n\u001B[2mcharset-normalizer  \u001B[0m \u001B[32m----\u001B[2m--------------------------\u001B[0m\u001B[0m 14.87 KiB/148.27 KiB\r\n\u001B[2mhf-xet              \u001B[0m \u001B[32m-\u001B[2m-----------------------------\u001B[0m\u001B[0m 14.91 KiB/3.04 MiB          \u001B[5A\r\u001B[2K\u001B[1B\r\u001B[2K\u001B[1B\r\u001B[2K\u001B[1B\r\u001B[2K\u001B[1B\r\u001B[2K\u001B[1B\r\u001B[2K\u001B[5A\u001B[37m⠙\u001B[0m \u001B[2mPreparing packages...\u001B[0m (0/13)\r\n\u001B[2mtyping-extensions   \u001B[0m \u001B[32m------------------------------\u001B[2m\u001B[0m\u001B[0m 43.57 KiB/43.57 KiB\r\n\u001B[2mrequests            \u001B[0m \u001B[32m------------------------------\u001B[2m\u001B[0m\u001B[0m 62.88 KiB/63.22 KiB\r\n\u001B[2midna                \u001B[0m \u001B[32m--------------\u001B[2m----------------\u001B[0m\u001B[0m 30.88 KiB/68.79 KiB\r\n\u001B[2mtqdm                \u001B[0m \u001B[32m------\u001B[2m------------------------\u001B[0m\u001B[0m 14.88 KiB/76.70 KiB\r\n\u001B[2murllib3             \u001B[0m \u001B[32m--------\u001B[2m----------------------\u001B[0m\u001B[0m 30.88 KiB/126.75 KiB\r\n\u001B[2mcharset-normalizer  \u001B[0m \u001B[32m-------\u001B[2m-----------------------\u001B[0m\u001B[0m 30.87 KiB/148.27 KiB\r\n\u001B[2mcertifi             \u001B[0m \u001B[32m----\u001B[2m--------------------------\u001B[0m\u001B[0m 17.19 KiB/157.44 KiB\r\n\u001B[2mfsspec              \u001B[0m \u001B[32m---\u001B[2m---------------------------\u001B[0m\u001B[0m 14.88 KiB/194.62 KiB\r\n\u001B[2mhuggingface-hub     \u001B[0m \u001B[32m--\u001B[2m----------------------------\u001B[0m\u001B[0m 32.00 KiB/550.23 KiB\r\n\u001B[2mpyyaml              \u001B[0m \u001B[32m-\u001B[2m-----------------------------\u001B[0m\u001B[0m 18.38 KiB/749.55 KiB\r\n\u001B[2mhf-xet              \u001B[0m \u001B[32m-\u001B[2m-----------------------------\u001B[0m\u001B[0m 30.91 KiB/3.04 MiB          \u001B[11A\r\u001B[2K\u001B[1B\r\u001B[2K\u001B[1B\r\u001B[2K\u001B[1B\r\u001B[2K\u001B[1B\r\u001B[2K\u001B[1B\r\u001B[2K\u001B[1B\r\u001B[2K\u001B[1B\r\u001B[2K\u001B[1B\r\u001B[2K\u001B[1B\r\u001B[2K\u001B[1B\r\u001B[2K\u001B[1B\r\u001B[2K\u001B[11A\u001B[37m⠙\u001B[0m \u001B[2mPreparing packages...\u001B[0m (0/13)\r\n\u001B[2mrequests            \u001B[0m \u001B[32m------------------------------\u001B[2m\u001B[0m\u001B[0m 62.88 KiB/63.22 KiB\r\n\u001B[2midna                \u001B[0m \u001B[32m--------------\u001B[2m----------------\u001B[0m\u001B[0m 30.88 KiB/68.79 KiB\r\n\u001B[2mtqdm                \u001B[0m \u001B[32m------\u001B[2m------------------------\u001B[0m\u001B[0m 14.88 KiB/76.70 KiB\r\n\u001B[2murllib3             \u001B[0m \u001B[32m--------\u001B[2m----------------------\u001B[0m\u001B[0m 30.88 KiB/126.75 KiB\r\n\u001B[2mcharset-normalizer  \u001B[0m \u001B[32m-------\u001B[2m-----------------------\u001B[0m\u001B[0m 30.87 KiB/148.27 KiB\r\n\u001B[2mcertifi             \u001B[0m \u001B[32m----\u001B[2m--------------------------\u001B[0m\u001B[0m 17.19 KiB/157.44 KiB\r\n\u001B[2mfsspec              \u001B[0m \u001B[32m---\u001B[2m---------------------------\u001B[0m\u001B[0m 14.88 KiB/194.62 KiB\r\n\u001B[2mhuggingface-hub     \u001B[0m \u001B[32m--\u001B[2m----------------------------\u001B[0m\u001B[0m 32.00 KiB/550.23 KiB\r\n\u001B[2mpyyaml              \u001B[0m \u001B[32m-\u001B[2m-----------------------------\u001B[0m\u001B[0m 18.38 KiB/749.55 KiB\r\n\u001B[2mhf-xet              \u001B[0m \u001B[32m-\u001B[2m-----------------------------\u001B[0m\u001B[0m 30.91 KiB/3.04 MiB          \u001B[10A\r\u001B[2K\u001B[1B\r\u001B[2K\u001B[1B\r\u001B[2K\u001B[1B\r\u001B[2K\u001B[1B\r\u001B[2K\u001B[1B\r\u001B[2K\u001B[1B\r\u001B[2K\u001B[1B\r\u001B[2K\u001B[1B\r\u001B[2K\u001B[1B\r\u001B[2K\u001B[1B\r\u001B[2K\u001B[10A\u001B[37m⠙\u001B[0m \u001B[2mPreparing packages...\u001B[0m (0/13)\r\n\u001B[2midna                \u001B[0m \u001B[32m--------------\u001B[2m----------------\u001B[0m\u001B[0m 30.88 KiB/68.79 KiB\r\n\u001B[2mtqdm                \u001B[0m \u001B[32m------\u001B[2m------------------------\u001B[0m\u001B[0m 14.88 KiB/76.70 KiB\r\n\u001B[2murllib3             \u001B[0m \u001B[32m--------\u001B[2m----------------------\u001B[0m\u001B[0m 30.88 KiB/126.75 KiB\r\n\u001B[2mcharset-normalizer  \u001B[0m \u001B[32m-------\u001B[2m-----------------------\u001B[0m\u001B[0m 30.87 KiB/148.27 KiB\r\n\u001B[2mcertifi             \u001B[0m \u001B[32m----\u001B[2m--------------------------\u001B[0m\u001B[0m 17.19 KiB/157.44 KiB\r\n\u001B[2mfsspec              \u001B[0m \u001B[32m---\u001B[2m---------------------------\u001B[0m\u001B[0m 14.88 KiB/194.62 KiB\r\n\u001B[2mhuggingface-hub     \u001B[0m \u001B[32m--\u001B[2m----------------------------\u001B[0m\u001B[0m 32.00 KiB/550.23 KiB\r\n\u001B[2mpyyaml              \u001B[0m \u001B[32m-\u001B[2m-----------------------------\u001B[0m\u001B[0m 18.38 KiB/749.55 KiB\r\n\u001B[2mhf-xet              \u001B[0m \u001B[32m-\u001B[2m-----------------------------\u001B[0m\u001B[0m 30.91 KiB/3.04 MiB          \u001B[9A\r\u001B[2K\u001B[1B\r\u001B[2K\u001B[1B\r\u001B[2K\u001B[1B\r\u001B[2K\u001B[1B\r\u001B[2K\u001B[1B\r\u001B[2K\u001B[1B\r\u001B[2K\u001B[1B\r\u001B[2K\u001B[1B\r\u001B[2K\u001B[1B\r\u001B[2K\u001B[9A\u001B[37m⠙\u001B[0m \u001B[2mPreparing packages...\u001B[0m (0/13)\r\n\u001B[2mtqdm                \u001B[0m \u001B[32m------\u001B[2m------------------------\u001B[0m\u001B[0m 14.88 KiB/76.70 KiB\r\n\u001B[2murllib3             \u001B[0m \u001B[32m---------------\u001B[2m---------------\u001B[0m\u001B[0m 62.88 KiB/126.75 KiB\r\n\u001B[2mcharset-normalizer  \u001B[0m \u001B[32m----------------\u001B[2m--------------\u001B[0m\u001B[0m 76.14 KiB/148.27 KiB\r\n\u001B[2mcertifi             \u001B[0m \u001B[32m--------------\u001B[2m----------------\u001B[0m\u001B[0m 68.54 KiB/157.44 KiB\r\n\u001B[2mfsspec              \u001B[0m \u001B[32m--------\u001B[2m----------------------\u001B[0m\u001B[0m 46.88 KiB/194.62 KiB\r\n\u001B[2mhuggingface-hub     \u001B[0m \u001B[32m----\u001B[2m--------------------------\u001B[0m\u001B[0m 63.14 KiB/550.23 KiB\r\n\u001B[2mpyyaml              \u001B[0m \u001B[32m--\u001B[2m----------------------------\u001B[0m\u001B[0m 34.38 KiB/749.55 KiB\r\n\u001B[2mhf-xet              \u001B[0m \u001B[32m-\u001B[2m-----------------------------\u001B[0m\u001B[0m 76.19 KiB/3.04 MiB          \u001B[8A\r\u001B[2K\u001B[1B\r\u001B[2K\u001B[1B\r\u001B[2K\u001B[1B\r\u001B[2K\u001B[1B\r\u001B[2K\u001B[1B\r\u001B[2K\u001B[1B\r\u001B[2K\u001B[1B\r\u001B[2K\u001B[1B\r\u001B[2K\u001B[8A\u001B[37m⠙\u001B[0m \u001B[2mPreparing packages...\u001B[0m (0/13)\r\n\u001B[2mtqdm                \u001B[0m \u001B[32m-------------------\u001B[2m-----------\u001B[0m\u001B[0m 46.78 KiB/76.70 KiB\r\n\u001B[2murllib3             \u001B[0m \u001B[32m-----------------------\u001B[2m-------\u001B[0m\u001B[0m 94.27 KiB/126.75 KiB\r\n\u001B[2mcharset-normalizer  \u001B[0m \u001B[32m---------------------------\u001B[2m---\u001B[0m\u001B[0m 130.23 KiB/148.27 KiB\r\n\u001B[2mcertifi             \u001B[0m \u001B[32m------------------------------\u001B[2m\u001B[0m\u001B[0m 157.44 KiB/157.44 KiB\r\n\u001B[2mfsspec              \u001B[0m \u001B[32m---------------\u001B[2m---------------\u001B[0m\u001B[0m 92.67 KiB/194.62 KiB\r\n\u001B[2mhuggingface-hub     \u001B[0m \u001B[32m-----------\u001B[2m-------------------\u001B[0m\u001B[0m 191.14 KiB/550.23 KiB\r\n\u001B[2mpyyaml              \u001B[0m \u001B[32m---------------------------\u001B[2m---\u001B[0m\u001B[0m 655.06 KiB/749.55 KiB\r\n\u001B[2mhf-xet              \u001B[0m \u001B[32m--------\u001B[2m----------------------\u001B[0m\u001B[0m 764.19 KiB/3.04 MiB         \u001B[8A\r\u001B[2K\u001B[1B\r\u001B[2K\u001B[1B\r\u001B[2K\u001B[1B\r\u001B[2K\u001B[1B\r\u001B[2K\u001B[1B\r\u001B[2K\u001B[1B\r\u001B[2K\u001B[1B\r\u001B[2K\u001B[1B\r\u001B[2K\u001B[8A\u001B[37m⠙\u001B[0m \u001B[2mPreparing packages...\u001B[0m (0/13)\r\n\u001B[2mtqdm                \u001B[0m \u001B[32m-------------------------\u001B[2m-----\u001B[0m\u001B[0m 63.52 KiB/76.70 KiB\r\n\u001B[2murllib3             \u001B[0m \u001B[32m-----------------------\u001B[2m-------\u001B[0m\u001B[0m 94.27 KiB/126.75 KiB\r\n\u001B[2mcharset-normalizer  \u001B[0m \u001B[32m------------------------------\u001B[2m\u001B[0m\u001B[0m 148.27 KiB/148.27 KiB\r\n\u001B[2mcertifi             \u001B[0m \u001B[32m------------------------------\u001B[2m\u001B[0m\u001B[0m 157.44 KiB/157.44 KiB\r\n\u001B[2mfsspec              \u001B[0m \u001B[32m---------------\u001B[2m---------------\u001B[0m\u001B[0m 92.67 KiB/194.62 KiB\r\n\u001B[2mhuggingface-hub     \u001B[0m \u001B[32m-------------\u001B[2m-----------------\u001B[0m\u001B[0m 223.14 KiB/550.23 KiB\r\n\u001B[2mhf-xet              \u001B[0m \u001B[32m------------------------------\u001B[2m\u001B[0m\u001B[0m 2.98 MiB/3.04 MiB           \u001B[7A\r\u001B[2K\u001B[1B\r\u001B[2K\u001B[1B\r\u001B[2K\u001B[1B\r\u001B[2K\u001B[1B\r\u001B[2K\u001B[1B\r\u001B[2K\u001B[1B\r\u001B[2K\u001B[1B\r\u001B[2K\u001B[7A\u001B[37m⠙\u001B[0m \u001B[2mPreparing packages...\u001B[0m (0/13)\r\n\u001B[2mtqdm                \u001B[0m \u001B[32m-------------------------\u001B[2m-----\u001B[0m\u001B[0m 63.52 KiB/76.70 KiB\r\n\u001B[2murllib3             \u001B[0m \u001B[32m-----------------------\u001B[2m-------\u001B[0m\u001B[0m 94.27 KiB/126.75 KiB\r\n\u001B[2mcharset-normalizer  \u001B[0m \u001B[32m------------------------------\u001B[2m\u001B[0m\u001B[0m 148.27 KiB/148.27 KiB\r\n\u001B[2mfsspec              \u001B[0m \u001B[32m---------------\u001B[2m---------------\u001B[0m\u001B[0m 92.67 KiB/194.62 KiB\r\n\u001B[2mhuggingface-hub     \u001B[0m \u001B[32m-------------\u001B[2m-----------------\u001B[0m\u001B[0m 223.14 KiB/550.23 KiB\r\n\u001B[2mhf-xet              \u001B[0m \u001B[32m------------------------------\u001B[2m\u001B[0m\u001B[0m 2.98 MiB/3.04 MiB           \u001B[6A\r\u001B[2K\u001B[1B\r\u001B[2K\u001B[1B\r\u001B[2K\u001B[1B\r\u001B[2K\u001B[1B\r\u001B[2K\u001B[1B\r\u001B[2K\u001B[1B\r\u001B[2K\u001B[6A\u001B[37m⠙\u001B[0m \u001B[2mPreparing packages...\u001B[0m (0/13)\r\n\u001B[2mtqdm                \u001B[0m \u001B[32m------------------------------\u001B[2m\u001B[0m\u001B[0m 76.70 KiB/76.70 KiB\r\n\u001B[2murllib3             \u001B[0m \u001B[32m---------------------------\u001B[2m---\u001B[0m\u001B[0m 110.27 KiB/126.75 KiB\r\n\u001B[2mcharset-normalizer  \u001B[0m \u001B[32m------------------------------\u001B[2m\u001B[0m\u001B[0m 148.27 KiB/148.27 KiB\r\n\u001B[2mfsspec              \u001B[0m \u001B[32m------------------\u001B[2m------------\u001B[0m\u001B[0m 112.98 KiB/194.62 KiB\r\n\u001B[2mhuggingface-hub     \u001B[0m \u001B[32m--------------\u001B[2m----------------\u001B[0m\u001B[0m 255.14 KiB/550.23 KiB       \u001B[5A\r\u001B[2K\u001B[1B\r\u001B[2K\u001B[1B\r\u001B[2K\u001B[1B\r\u001B[2K\u001B[1B\r\u001B[2K\u001B[1B\r\u001B[2K\u001B[5A\u001B[37m⠙\u001B[0m \u001B[2mPreparing packages...\u001B[0m (0/13)\r\n\u001B[2mtqdm                \u001B[0m \u001B[32m------------------------------\u001B[2m\u001B[0m\u001B[0m 76.70 KiB/76.70 KiB\r\n\u001B[2murllib3             \u001B[0m \u001B[32m---------------------------\u001B[2m---\u001B[0m\u001B[0m 110.27 KiB/126.75 KiB\r\n\u001B[2mfsspec              \u001B[0m \u001B[32m--------------------\u001B[2m----------\u001B[0m\u001B[0m 128.98 KiB/194.62 KiB\r\n\u001B[2mhuggingface-hub     \u001B[0m \u001B[32m--------------\u001B[2m----------------\u001B[0m\u001B[0m 255.14 KiB/550.23 KiB       \u001B[4A\r\u001B[2K\u001B[1B\r\u001B[2K\u001B[1B\r\u001B[2K\u001B[1B\r\u001B[2K\u001B[1B\r\u001B[2K\u001B[4A\u001B[37m⠙\u001B[0m \u001B[2mPreparing packages...\u001B[0m (0/13)\r\n\u001B[2murllib3             \u001B[0m \u001B[32m------------------------------\u001B[2m\u001B[0m\u001B[0m 126.27 KiB/126.75 KiB\r\n\u001B[2mfsspec              \u001B[0m \u001B[32m--------------------\u001B[2m----------\u001B[0m\u001B[0m 128.98 KiB/194.62 KiB\r\n\u001B[2mhuggingface-hub     \u001B[0m \u001B[32m--------------\u001B[2m----------------\u001B[0m\u001B[0m 255.14 KiB/550.23 KiB       \u001B[3A\r\u001B[2K\u001B[1B\r\u001B[2K\u001B[1B\r\u001B[2K\u001B[1B\r\u001B[2K\u001B[3A\u001B[37m⠙\u001B[0m \u001B[2mPreparing packages...\u001B[0m (0/13)\r\n\u001B[2mfsspec              \u001B[0m \u001B[32m---------------------------\u001B[2m---\u001B[0m\u001B[0m 172.67 KiB/194.62 KiB\r\n\u001B[2mhuggingface-hub     \u001B[0m \u001B[32m----------------\u001B[2m--------------\u001B[0m\u001B[0m 287.14 KiB/550.23 KiB       \u001B[2A\r\u001B[2K\u001B[1B\r\u001B[2K\u001B[1B\r\u001B[2K\u001B[2A\u001B[37m⠙\u001B[0m \u001B[2mPreparing packages...\u001B[0m (0/13)\r\n\u001B[2mhuggingface-hub     \u001B[0m \u001B[32m-------------------\u001B[2m-----------\u001B[0m\u001B[0m 335.14 KiB/550.23 KiB       \u001B[1A\r\u001B[2K\u001B[1B\r\u001B[2K\u001B[1A\u001B[37m⠙\u001B[0m \u001B[2mPreparing packages...\u001B[0m (0/13)                                                  \r\u001B[2K\u001B[2mPrepared \u001B[1m13 packages\u001B[0m \u001B[2min 93ms\u001B[0m\u001B[0m\r\n░░░░░░░░░░░░░░░░░░░░ [0/0] \u001B[2mInstalling wheels...                                 \u001B[0m\r\u001B[2K░░░░░░░░░░░░░░░░░░░░ [0/13] \u001B[2mInstalling wheels...                                \u001B[0m\u001B[1m\u001B[33mwarning\u001B[39m\u001B[0m\u001B[1m:\u001B[0m \u001B[1mFailed to hardlink files; falling back to full copy. This may lead to degraded performance.\r\n         If the cache and target directories are on different filesystems, hardlinking may not be supported.\r\n         If this is intentional, set `export UV_LINK_MODE=copy` or use `--link-mode=copy` to suppress this warning.\u001B[0m\r\n\r\u001B[2K░░░░░░░░░░░░░░░░░░░░ [0/13] \u001B[2mtyping-extensions==4.15.0                           \u001B[0m\r\u001B[2K█░░░░░░░░░░░░░░░░░░░ [1/13] \u001B[2mtyping-extensions==4.15.0                           \u001B[0m\r\u001B[2K█░░░░░░░░░░░░░░░░░░░ [1/13] \u001B[2mfilelock==3.19.1                                    \u001B[0m\r\u001B[2K███░░░░░░░░░░░░░░░░░ [2/13] \u001B[2mfilelock==3.19.1                                    \u001B[0m\r\u001B[2K███░░░░░░░░░░░░░░░░░ [2/13] \u001B[2mcertifi==2025.8.3                                   \u001B[0m\r\u001B[2K████░░░░░░░░░░░░░░░░ [3/13] \u001B[2mcertifi==2025.8.3                                   \u001B[0m\r\u001B[2K████░░░░░░░░░░░░░░░░ [3/13] \u001B[2midna==3.10                                          \u001B[0m\r\u001B[2K██████░░░░░░░░░░░░░░ [4/13] \u001B[2midna==3.10                                          \u001B[0m\r\u001B[2K██████░░░░░░░░░░░░░░ [4/13] \u001B[2mpackaging==25.0                                     \u001B[0m\r\u001B[2K███████░░░░░░░░░░░░░ [5/13] \u001B[2mpackaging==25.0                                     \u001B[0m\r\u001B[2K███████░░░░░░░░░░░░░ [5/13] \u001B[2mrequests==2.32.5                                    \u001B[0m\r\u001B[2K█████████░░░░░░░░░░░ [6/13] \u001B[2mrequests==2.32.5                                    \u001B[0m\r\u001B[2K█████████░░░░░░░░░░░ [6/13] \u001B[2mcharset-normalizer==3.4.3                           \u001B[0m\r\u001B[2K██████████░░░░░░░░░░ [7/13] \u001B[2mcharset-normalizer==3.4.3                           \u001B[0m\r\u001B[2K██████████░░░░░░░░░░ [7/13] \u001B[2mtqdm==4.67.1                                        \u001B[0m\r\u001B[2K████████████░░░░░░░░ [8/13] \u001B[2mtqdm==4.67.1                                        \u001B[0m\r\u001B[2K████████████░░░░░░░░ [8/13] \u001B[2murllib3==2.5.0                                      \u001B[0m\r\u001B[2K█████████████░░░░░░░ [9/13] \u001B[2murllib3==2.5.0                                      \u001B[0m\r\u001B[2K██████████████████░░ [12/13] \u001B[2mhuggingface-hub==0.35.0                            \u001B[0m\r\u001B[2K\u001B[2mInstalled \u001B[1m13 packages\u001B[0m \u001B[2min 54ms\u001B[0m\u001B[0m\r\n \u001B[32m+\u001B[39m \u001B[1mcertifi\u001B[0m\u001B[2m==2025.8.3\u001B[0m\r\n \u001B[32m+\u001B[39m \u001B[1mcharset-normalizer\u001B[0m\u001B[2m==3.4.3\u001B[0m\r\n \u001B[32m+\u001B[39m \u001B[1mfilelock\u001B[0m\u001B[2m==3.19.1\u001B[0m\r\n \u001B[32m+\u001B[39m \u001B[1mfsspec\u001B[0m\u001B[2m==2025.9.0\u001B[0m\r\n \u001B[32m+\u001B[39m \u001B[1mhf-xet\u001B[0m\u001B[2m==1.1.10\u001B[0m\r\n \u001B[32m+\u001B[39m \u001B[1mhuggingface-hub\u001B[0m\u001B[2m==0.35.0\u001B[0m\r\n \u001B[32m+\u001B[39m \u001B[1midna\u001B[0m\u001B[2m==3.10\u001B[0m\r\n \u001B[32m+\u001B[39m \u001B[1mpackaging\u001B[0m\u001B[2m==25.0\u001B[0m\r\n \u001B[32m+\u001B[39m \u001B[1mpyyaml\u001B[0m\u001B[2m==6.0.2\u001B[0m\r\n \u001B[32m+\u001B[39m \u001B[1mrequests\u001B[0m\u001B[2m==2.32.5\u001B[0m\r\n \u001B[32m+\u001B[39m \u001B[1mtqdm\u001B[0m\u001B[2m==4.67.1\u001B[0m\r\n \u001B[32m+\u001B[39m \u001B[1mtyping-extensions\u001B[0m\u001B[2m==4.15.0\u001B[0m\r\n \u001B[32m+\u001B[39m \u001B[1murllib3\u001B[0m\u001B[2m==2.5.0\u001B[0m\r\n\u001B[2mUsing Python 3.12.3 environment at: /local_disk0/.ephemeral_nfs/envs/pythonEnv-edf3d31a-82bd-49bb-9289-567175bcca4f\u001B[0m\r\n\u001B[37m⠋\u001B[0m \u001B[2mResolving dependencies...                                                     \u001B[0m\r\u001B[2K\u001B[37m⠙\u001B[0m \u001B[2mResolving dependencies...                                                     \u001B[0m\r\u001B[2K\u001B[37m⠋\u001B[0m \u001B[2mResolving dependencies...                                                     \u001B[0m\r\u001B[2K\u001B[37m⠙\u001B[0m \u001B[2mResolving dependencies...                                                     \u001B[0m\r\u001B[2K\u001B[37m⠙\u001B[0m \u001B[2mvllm==0.10.1.1                                                                \u001B[0m\r\u001B[2K\u001B[37m⠙\u001B[0m \u001B[2moutlines-core==0.2.10                                                         \u001B[0m\r\u001B[2K\u001B[37m⠹\u001B[0m \u001B[2moutlines-core==0.2.10                                                         \u001B[0m\r\u001B[2K\u001B[37m⠹\u001B[0m \u001B[2mdiskcache==5.6.3                                                              \u001B[0m\r\u001B[2K\u001B[37m⠹\u001B[0m \u001B[2mlark==1.2.2                                                                   \u001B[0m\r\u001B[2K\u001B[37m⠹\u001B[0m \u001B[2mxgrammar==0.1.21                                                              \u001B[0m\r\u001B[2K\u001B[37m⠹\u001B[0m \u001B[2mxgrammar==0.1.21                                                              \u001B[0m\r\u001B[2K\u001B[37m⠹\u001B[0m \u001B[2mcompressed-tensors==0.10.2                                                    \u001B[0m\r\u001B[2K\u001B[37m⠹\u001B[0m \u001B[2mdepyf==0.19.0                                                                 \u001B[0m\r\u001B[2K\u001B[37m⠹\u001B[0m \u001B[2mnumba==0.61.2                                                                 \u001B[0m\r\u001B[2K\u001B[37m⠹\u001B[0m \u001B[2mnumba==0.61.2                                                                 \u001B[0m\r\u001B[2K\u001B[37m⠹\u001B[0m \u001B[2mtorch==2.7.1                                                                  \u001B[0m\r\u001B[2K\u001B[37m⠹\u001B[0m \u001B[2mtorchaudio==2.7.1                                                             \u001B[0m\r\u001B[2K\u001B[37m⠹\u001B[0m \u001B[2mtorchvision==0.22.1                                                           \u001B[0m\r\u001B[2K\u001B[37m⠹\u001B[0m \u001B[2mxformers==0.0.31                                                              \u001B[0m\r\u001B[2K\u001B[37m⠹\u001B[0m \u001B[2mxformers==0.0.31                                                              \u001B[0m\r\u001B[2K\u001B[37m⠹\u001B[0m \u001B[2mtriton==3.3.1                                                                 \u001B[0m\r\u001B[2K\u001B[37m⠹\u001B[0m \u001B[2mtriton==3.3.1                                                                 \u001B[0m\r\u001B[2K\u001B[37m⠹\u001B[0m \u001B[2mnvidia-cuda-nvrtc-cu12==12.6.77                                               \u001B[0m\r\u001B[2K\u001B[37m⠹\u001B[0m \u001B[2mnvidia-cuda-nvrtc-cu12==12.6.77                                               \u001B[0m\r\u001B[2K\u001B[37m⠹\u001B[0m \u001B[2mnvidia-cuda-runtime-cu12==12.6.77                                             \u001B[0m\r\u001B[2K\u001B[37m⠸\u001B[0m \u001B[2mnvidia-cuda-runtime-cu12==12.6.77                                             \u001B[0m\r\u001B[2K\u001B[37m⠸\u001B[0m \u001B[2mnvidia-cuda-runtime-cu12==12.6.77                                             \u001B[0m\r\u001B[2K\u001B[37m⠸\u001B[0m \u001B[2mnvidia-cuda-cupti-cu12==12.6.80                                               \u001B[0m\r\u001B[2K\u001B[37m⠸\u001B[0m \u001B[2mnvidia-cuda-cupti-cu12==12.6.80                                               \u001B[0m\r\u001B[2K\u001B[37m⠸\u001B[0m \u001B[2mnvidia-cudnn-cu12==9.5.1.17                                                   \u001B[0m\r\u001B[2K\u001B[37m⠸\u001B[0m \u001B[2mnvidia-cusolver-cu12==11.7.1.2                                                \u001B[0m\r\u001B[2K\u001B[37m⠸\u001B[0m \u001B[2mnvidia-cufile-cu12\n\n*** WARNING: max output size exceeded, skipping output. ***\n\n            \u001B[2A\r\u001B[2K\u001B[1B\r\u001B[2K\u001B[1B\r\u001B[2K\u001B[2A\u001B[37m⠴\u001B[0m \u001B[2mPreparing packages...\u001B[0m (126/127)\r\n\u001B[2mtorch                            \u001B[0m \u001B[32m------------------\u001B[2m------------\u001B[0m\u001B[0m 455.75 MiB/782.99 MiB                                                                          \u001B[2A\r\u001B[2K\u001B[1B\r\u001B[2K\u001B[1B\r\u001B[2K\u001B[2A\u001B[37m⠴\u001B[0m \u001B[2mPreparing packages...\u001B[0m (126/127)\r\n\u001B[2mtorch                            \u001B[0m \u001B[32m------------------\u001B[2m------------\u001B[0m\u001B[0m 462.03 MiB/782.99 MiB                                                                          \u001B[2A\r\u001B[2K\u001B[1B\r\u001B[2K\u001B[1B\r\u001B[2K\u001B[2A\u001B[37m⠴\u001B[0m \u001B[2mPreparing packages...\u001B[0m (126/127)\r\n\u001B[2mtorch                            \u001B[0m \u001B[32m------------------\u001B[2m------------\u001B[0m\u001B[0m 468.18 MiB/782.99 MiB                                                                          \u001B[2A\r\u001B[2K\u001B[1B\r\u001B[2K\u001B[1B\r\u001B[2K\u001B[2A\u001B[37m⠦\u001B[0m \u001B[2mPreparing packages...\u001B[0m (126/127)\r\n\u001B[2mtorch                            \u001B[0m \u001B[32m-------------------\u001B[2m-----------\u001B[0m\u001B[0m 474.81 MiB/782.99 MiB                                                                          \u001B[2A\r\u001B[2K\u001B[1B\r\u001B[2K\u001B[1B\r\u001B[2K\u001B[2A\u001B[37m⠦\u001B[0m \u001B[2mPreparing packages...\u001B[0m (126/127)\r\n\u001B[2mtorch                            \u001B[0m \u001B[32m-------------------\u001B[2m-----------\u001B[0m\u001B[0m 481.58 MiB/782.99 MiB                                                                          \u001B[2A\r\u001B[2K\u001B[1B\r\u001B[2K\u001B[1B\r\u001B[2K\u001B[2A\u001B[37m⠦\u001B[0m \u001B[2mPreparing packages...\u001B[0m (126/127)\r\n\u001B[2mtorch                            \u001B[0m \u001B[32m-------------------\u001B[2m-----------\u001B[0m\u001B[0m 487.33 MiB/782.99 MiB                                                                          \u001B[2A\r\u001B[2K\u001B[1B\r\u001B[2K\u001B[1B\r\u001B[2K\u001B[2A\u001B[37m⠦\u001B[0m \u001B[2mPreparing packages...\u001B[0m (126/127)\r\n\u001B[2mtorch                            \u001B[0m \u001B[32m-------------------\u001B[2m-----------\u001B[0m\u001B[0m 493.82 MiB/782.99 MiB                                                                          \u001B[2A\r\u001B[2K\u001B[1B\r\u001B[2K\u001B[1B\r\u001B[2K\u001B[2A\u001B[37m⠧\u001B[0m \u001B[2mPreparing packages...\u001B[0m (126/127)\r\n\u001B[2mtorch                            \u001B[0m \u001B[32m--------------------\u001B[2m----------\u001B[0m\u001B[0m 500.25 MiB/782.99 MiB                                                                          \u001B[2A\r\u001B[2K\u001B[1B\r\u001B[2K\u001B[1B\r\u001B[2K\u001B[2A\u001B[37m⠧\u001B[0m \u001B[2mPreparing packages...\u001B[0m (126/127)\r\n\u001B[2mtorch                            \u001B[0m \u001B[32m--------------------\u001B[2m----------\u001B[0m\u001B[0m 506.85 MiB/782.99 MiB                                                                          \u001B[2A\r\u001B[2K\u001B[1B\r\u001B[2K\u001B[1B\r\u001B[2K\u001B[2A\u001B[37m⠧\u001B[0m \u001B[2mPreparing packages...\u001B[0m (126/127)\r\n\u001B[2mtorch                            \u001B[0m \u001B[32m--------------------\u001B[2m----------\u001B[0m\u001B[0m 513.25 MiB/782.99 MiB                                                                          \u001B[2A\r\u001B[2K\u001B[1B\r\u001B[2K\u001B[1B\r\u001B[2K\u001B[2A\u001B[37m⠧\u001B[0m \u001B[2mPreparing packages...\u001B[0m (126/127)\r\n\u001B[2mtorch                            \u001B[0m \u001B[32m--------------------\u001B[2m----------\u001B[0m\u001B[0m 519.86 MiB/782.99 MiB                                                                          \u001B[2A\r\u001B[2K\u001B[1B\r\u001B[2K\u001B[1B\r\u001B[2K\u001B[2A\u001B[37m⠇\u001B[0m \u001B[2mPreparing packages...\u001B[0m (126/127)\r\n\u001B[2mtorch                            \u001B[0m \u001B[32m---------------------\u001B[2m---------\u001B[0m\u001B[0m 526.61 MiB/782.99 MiB                                                                          \u001B[2A\r\u001B[2K\u001B[1B\r\u001B[2K\u001B[1B\r\u001B[2K\u001B[2A\u001B[37m⠇\u001B[0m \u001B[2mPreparing packages...\u001B[0m (126/127)\r\n\u001B[2mtorch                            \u001B[0m \u001B[32m---------------------\u001B[2m---------\u001B[0m\u001B[0m 533.39 MiB/782.99 MiB                                                                          \u001B[2A\r\u001B[2K\u001B[1B\r\u001B[2K\u001B[1B\r\u001B[2K\u001B[2A\u001B[37m⠇\u001B[0m \u001B[2mPreparing packages...\u001B[0m (126/127)\r\n\u001B[2mtorch                            \u001B[0m \u001B[32m---------------------\u001B[2m---------\u001B[0m\u001B[0m 540.05 MiB/782.99 MiB                                                                          \u001B[2A\r\u001B[2K\u001B[1B\r\u001B[2K\u001B[1B\r\u001B[2K\u001B[2A\u001B[37m⠇\u001B[0m \u001B[2mPreparing packages...\u001B[0m (126/127)\r\n\u001B[2mtorch                            \u001B[0m \u001B[32m---------------------\u001B[2m---------\u001B[0m\u001B[0m 546.64 MiB/782.99 MiB                                                                          \u001B[2A\r\u001B[2K\u001B[1B\r\u001B[2K\u001B[1B\r\u001B[2K\u001B[2A\u001B[37m⠋\u001B[0m \u001B[2mPreparing packages...\u001B[0m (126/127)\r\n\u001B[2mtorch                            \u001B[0m \u001B[32m----------------------\u001B[2m--------\u001B[0m\u001B[0m 553.26 MiB/782.99 MiB                                                                          \u001B[2A\r\u001B[2K\u001B[1B\r\u001B[2K\u001B[1B\r\u001B[2K\u001B[2A\u001B[37m⠋\u001B[0m \u001B[2mPreparing packages...\u001B[0m (126/127)\r\n\u001B[2mtorch                            \u001B[0m \u001B[32m----------------------\u001B[2m--------\u001B[0m\u001B[0m 560.40 MiB/782.99 MiB                                                                          \u001B[2A\r\u001B[2K\u001B[1B\r\u001B[2K\u001B[1B\r\u001B[2K\u001B[2A\u001B[37m⠋\u001B[0m \u001B[2mPreparing packages...\u001B[0m (126/127)\r\n\u001B[2mtorch                            \u001B[0m \u001B[32m----------------------\u001B[2m--------\u001B[0m\u001B[0m 567.50 MiB/782.99 MiB                                                                          \u001B[2A\r\u001B[2K\u001B[1B\r\u001B[2K\u001B[1B\r\u001B[2K\u001B[2A\u001B[37m⠋\u001B[0m \u001B[2mPreparing packages...\u001B[0m (126/127)\r\n\u001B[2mtorch                            \u001B[0m \u001B[32m----------------------\u001B[2m--------\u001B[0m\u001B[0m 573.91 MiB/782.99 MiB                                                                          \u001B[2A\r\u001B[2K\u001B[1B\r\u001B[2K\u001B[1B\r\u001B[2K\u001B[2A\u001B[37m⠙\u001B[0m \u001B[2mPreparing packages...\u001B[0m (126/127)\r\n\u001B[2mtorch                            \u001B[0m \u001B[32m-----------------------\u001B[2m-------\u001B[0m\u001B[0m 581.05 MiB/782.99 MiB                                                                          \u001B[2A\r\u001B[2K\u001B[1B\r\u001B[2K\u001B[1B\r\u001B[2K\u001B[2A\u001B[37m⠙\u001B[0m \u001B[2mPreparing packages...\u001B[0m (126/127)\r\n\u001B[2mtorch                            \u001B[0m \u001B[32m-----------------------\u001B[2m-------\u001B[0m\u001B[0m 588.43 MiB/782.99 MiB                                                                          \u001B[2A\r\u001B[2K\u001B[1B\r\u001B[2K\u001B[1B\r\u001B[2K\u001B[2A\u001B[37m⠙\u001B[0m \u001B[2mPreparing packages...\u001B[0m (126/127)\r\n\u001B[2mtorch                            \u001B[0m \u001B[32m-----------------------\u001B[2m-------\u001B[0m\u001B[0m 595.74 MiB/782.99 MiB                                                                          \u001B[2A\r\u001B[2K\u001B[1B\r\u001B[2K\u001B[1B\r\u001B[2K\u001B[2A\u001B[37m⠙\u001B[0m \u001B[2mPreparing packages...\u001B[0m (126/127)\r\n\u001B[2mtorch                            \u001B[0m \u001B[32m------------------------\u001B[2m------\u001B[0m\u001B[0m 602.21 MiB/782.99 MiB                                                                          \u001B[2A\r\u001B[2K\u001B[1B\r\u001B[2K\u001B[1B\r\u001B[2K\u001B[2A\u001B[37m⠹\u001B[0m \u001B[2mPreparing packages...\u001B[0m (126/127)\r\n\u001B[2mtorch                            \u001B[0m \u001B[32m------------------------\u001B[2m------\u001B[0m\u001B[0m 609.36 MiB/782.99 MiB                                                                          \u001B[2A\r\u001B[2K\u001B[1B\r\u001B[2K\u001B[1B\r\u001B[2K\u001B[2A\u001B[37m⠹\u001B[0m \u001B[2mPreparing packages...\u001B[0m (126/127)\r\n\u001B[2mtorch                            \u001B[0m \u001B[32m------------------------\u001B[2m------\u001B[0m\u001B[0m 616.39 MiB/782.99 MiB                                                                          \u001B[2A\r\u001B[2K\u001B[1B\r\u001B[2K\u001B[1B\r\u001B[2K\u001B[2A\u001B[37m⠹\u001B[0m \u001B[2mPreparing packages...\u001B[0m (126/127)\r\n\u001B[2mtorch                            \u001B[0m \u001B[32m------------------------\u001B[2m------\u001B[0m\u001B[0m 623.43 MiB/782.99 MiB                                                                          \u001B[2A\r\u001B[2K\u001B[1B\r\u001B[2K\u001B[1B\r\u001B[2K\u001B[2A\u001B[37m⠹\u001B[0m \u001B[2mPreparing packages...\u001B[0m (126/127)\r\n\u001B[2mtorch                            \u001B[0m \u001B[32m-------------------------\u001B[2m-----\u001B[0m\u001B[0m 629.97 MiB/782.99 MiB                                                                          \u001B[2A\r\u001B[2K\u001B[1B\r\u001B[2K\u001B[1B\r\u001B[2K\u001B[2A\u001B[37m⠸\u001B[0m \u001B[2mPreparing packages...\u001B[0m (126/127)\r\n\u001B[2mtorch                            \u001B[0m \u001B[32m-------------------------\u001B[2m-----\u001B[0m\u001B[0m 636.82 MiB/782.99 MiB                                                                          \u001B[2A\r\u001B[2K\u001B[1B\r\u001B[2K\u001B[1B\r\u001B[2K\u001B[2A\u001B[37m⠸\u001B[0m \u001B[2mPreparing packages...\u001B[0m (126/127)\r\n\u001B[2mtorch                            \u001B[0m \u001B[32m-------------------------\u001B[2m-----\u001B[0m\u001B[0m 643.90 MiB/782.99 MiB                                                                          \u001B[2A\r\u001B[2K\u001B[1B\r\u001B[2K\u001B[1B\r\u001B[2K\u001B[2A\u001B[37m⠸\u001B[0m \u001B[2mPreparing packages...\u001B[0m (126/127)\r\n\u001B[2mtorch                            \u001B[0m \u001B[32m-------------------------\u001B[2m-----\u001B[0m\u001B[0m 650.94 MiB/782.99 MiB                                                                          \u001B[2A\r\u001B[2K\u001B[1B\r\u001B[2K\u001B[1B\r\u001B[2K\u001B[2A\u001B[37m⠸\u001B[0m \u001B[2mPreparing packages...\u001B[0m (126/127)\r\n\u001B[2mtorch                            \u001B[0m \u001B[32m--------------------------\u001B[2m----\u001B[0m\u001B[0m 658.11 MiB/782.99 MiB                                                                          \u001B[2A\r\u001B[2K\u001B[1B\r\u001B[2K\u001B[1B\r\u001B[2K\u001B[2A\u001B[37m⠼\u001B[0m \u001B[2mPreparing packages...\u001B[0m (126/127)\r\n\u001B[2mtorch                            \u001B[0m \u001B[32m--------------------------\u001B[2m----\u001B[0m\u001B[0m 666.55 MiB/782.99 MiB                                                                          \u001B[2A\r\u001B[2K\u001B[1B\r\u001B[2K\u001B[1B\r\u001B[2K\u001B[2A\u001B[37m⠼\u001B[0m \u001B[2mPreparing packages...\u001B[0m (126/127)\r\n\u001B[2mtorch                            \u001B[0m \u001B[32m--------------------------\u001B[2m----\u001B[0m\u001B[0m 674.73 MiB/782.99 MiB                                                                          \u001B[2A\r\u001B[2K\u001B[1B\r\u001B[2K\u001B[1B\r\u001B[2K\u001B[2A\u001B[37m⠼\u001B[0m \u001B[2mPreparing packages...\u001B[0m (126/127)\r\n\u001B[2mtorch                            \u001B[0m \u001B[32m---------------------------\u001B[2m---\u001B[0m\u001B[0m 682.62 MiB/782.99 MiB                                                                          \u001B[2A\r\u001B[2K\u001B[1B\r\u001B[2K\u001B[1B\r\u001B[2K\u001B[2A\u001B[37m⠼\u001B[0m \u001B[2mPreparing packages...\u001B[0m (126/127)\r\n\u001B[2mtorch                            \u001B[0m \u001B[32m---------------------------\u001B[2m---\u001B[0m\u001B[0m 691.17 MiB/782.99 MiB                                                                          \u001B[2A\r\u001B[2K\u001B[1B\r\u001B[2K\u001B[1B\r\u001B[2K\u001B[2A\u001B[37m⠴\u001B[0m \u001B[2mPreparing packages...\u001B[0m (126/127)\r\n\u001B[2mtorch                            \u001B[0m \u001B[32m---------------------------\u001B[2m---\u001B[0m\u001B[0m 699.78 MiB/782.99 MiB                                                                          \u001B[2A\r\u001B[2K\u001B[1B\r\u001B[2K\u001B[1B\r\u001B[2K\u001B[2A\u001B[37m⠴\u001B[0m \u001B[2mPreparing packages...\u001B[0m (126/127)\r\n\u001B[2mtorch                            \u001B[0m \u001B[32m----------------------------\u001B[2m--\u001B[0m\u001B[0m 707.11 MiB/782.99 MiB                                                                          \u001B[2A\r\u001B[2K\u001B[1B\r\u001B[2K\u001B[1B\r\u001B[2K\u001B[2A\u001B[37m⠴\u001B[0m \u001B[2mPreparing packages...\u001B[0m (126/127)\r\n\u001B[2mtorch                            \u001B[0m \u001B[32m----------------------------\u001B[2m--\u001B[0m\u001B[0m 713.98 MiB/782.99 MiB                                                                          \u001B[2A\r\u001B[2K\u001B[1B\r\u001B[2K\u001B[1B\r\u001B[2K\u001B[2A\u001B[37m⠴\u001B[0m \u001B[2mPreparing packages...\u001B[0m (126/127)\r\n\u001B[2mtorch                            \u001B[0m \u001B[32m----------------------------\u001B[2m--\u001B[0m\u001B[0m 718.54 MiB/782.99 MiB                                                                          \u001B[2A\r\u001B[2K\u001B[1B\r\u001B[2K\u001B[1B\r\u001B[2K\u001B[2A\u001B[37m⠦\u001B[0m \u001B[2mPreparing packages...\u001B[0m (126/127)\r\n\u001B[2mtorch                            \u001B[0m \u001B[32m----------------------------\u001B[2m--\u001B[0m\u001B[0m 722.44 MiB/782.99 MiB                                                                          \u001B[2A\r\u001B[2K\u001B[1B\r\u001B[2K\u001B[1B\r\u001B[2K\u001B[2A\u001B[37m⠦\u001B[0m \u001B[2mPreparing packages...\u001B[0m (126/127)\r\n\u001B[2mtorch                            \u001B[0m \u001B[32m----------------------------\u001B[2m--\u001B[0m\u001B[0m 728.89 MiB/782.99 MiB                                                                          \u001B[2A\r\u001B[2K\u001B[1B\r\u001B[2K\u001B[1B\r\u001B[2K\u001B[2A\u001B[37m⠦\u001B[0m \u001B[2mPreparing packages...\u001B[0m (126/127)\r\n\u001B[2mtorch                            \u001B[0m \u001B[32m-----------------------------\u001B[2m-\u001B[0m\u001B[0m 735.74 MiB/782.99 MiB                                                                          \u001B[2A\r\u001B[2K\u001B[1B\r\u001B[2K\u001B[1B\r\u001B[2K\u001B[2A\u001B[37m⠦\u001B[0m \u001B[2mPreparing packages...\u001B[0m (126/127)\r\n\u001B[2mtorch                            \u001B[0m \u001B[32m-----------------------------\u001B[2m-\u001B[0m\u001B[0m 742.75 MiB/782.99 MiB                                                                          \u001B[2A\r\u001B[2K\u001B[1B\r\u001B[2K\u001B[1B\r\u001B[2K\u001B[2A\u001B[37m⠧\u001B[0m \u001B[2mPreparing packages...\u001B[0m (126/127)\r\n\u001B[2mtorch                            \u001B[0m \u001B[32m-----------------------------\u001B[2m-\u001B[0m\u001B[0m 749.53 MiB/782.99 MiB                                                                          \u001B[2A\r\u001B[2K\u001B[1B\r\u001B[2K\u001B[1B\r\u001B[2K\u001B[2A\u001B[37m⠧\u001B[0m \u001B[2mPreparing packages...\u001B[0m (126/127)\r\n\u001B[2mtorch                            \u001B[0m \u001B[32m-----------------------------\u001B[2m-\u001B[0m\u001B[0m 755.53 MiB/782.99 MiB                                                                          \u001B[2A\r\u001B[2K\u001B[1B\r\u001B[2K\u001B[1B\r\u001B[2K\u001B[2A\u001B[37m⠧\u001B[0m \u001B[2mPreparing packages...\u001B[0m (126/127)\r\n\u001B[2mtorch                            \u001B[0m \u001B[32m------------------------------\u001B[2m\u001B[0m\u001B[0m 762.02 MiB/782.99 MiB                                                                          \u001B[2A\r\u001B[2K\u001B[1B\r\u001B[2K\u001B[1B\r\u001B[2K\u001B[2A\u001B[37m⠧\u001B[0m \u001B[2mPreparing packages...\u001B[0m (126/127)\r\n\u001B[2mtorch                            \u001B[0m \u001B[32m------------------------------\u001B[2m\u001B[0m\u001B[0m 767.98 MiB/782.99 MiB                                                                          \u001B[2A\r\u001B[2K\u001B[1B\r\u001B[2K\u001B[1B\r\u001B[2K\u001B[2A\u001B[37m⠇\u001B[0m \u001B[2mPreparing packages...\u001B[0m (126/127)\r\n\u001B[2mtorch                            \u001B[0m \u001B[32m------------------------------\u001B[2m\u001B[0m\u001B[0m 774.23 MiB/782.99 MiB                                                                          \u001B[2A\r\u001B[2K\u001B[1B\r\u001B[2K\u001B[1B\r\u001B[2K\u001B[2A\u001B[37m⠇\u001B[0m \u001B[2mPreparing packages...\u001B[0m (126/127)\r\n\u001B[2mtorch                            \u001B[0m \u001B[32m------------------------------\u001B[2m\u001B[0m\u001B[0m 778.73 MiB/782.99 MiB                                                                          \u001B[2A\r\u001B[2K\u001B[1B\r\u001B[2K\u001B[1B\r\u001B[2K\u001B[2A\u001B[37m⠇\u001B[0m \u001B[2mPreparing packages...\u001B[0m (126/127)\r\n\u001B[2mtorch                            \u001B[0m \u001B[32m------------------------------\u001B[2m\u001B[0m\u001B[0m 779.39 MiB/782.99 MiB                                                                          \u001B[2A\r\u001B[2K\u001B[1B\r\u001B[2K\u001B[1B\r\u001B[2K\u001B[2A\u001B[37m⠇\u001B[0m \u001B[2mPreparing packages...\u001B[0m (126/127)\r\n\u001B[2mtorch                            \u001B[0m \u001B[32m------------------------------\u001B[2m\u001B[0m\u001B[0m 780.31 MiB/782.99 MiB                                                                          \u001B[2A\r\u001B[2K\u001B[1B\r\u001B[2K\u001B[1B\r\u001B[2K\u001B[2A\u001B[37m⠋\u001B[0m \u001B[2mPreparing packages...\u001B[0m (126/127)\r\n\u001B[2mtorch                            \u001B[0m \u001B[32m------------------------------\u001B[2m\u001B[0m\u001B[0m 781.07 MiB/782.99 MiB                                                                          \u001B[2A\r\u001B[2K\u001B[1B\r\u001B[2K\u001B[1B\r\u001B[2K\u001B[2A\u001B[37m⠋\u001B[0m \u001B[2mPreparing packages...\u001B[0m (126/127)                                               \r\u001B[2K\u001B[2mPrepared \u001B[1m127 packages\u001B[0m \u001B[2min 30.49s\u001B[0m\u001B[0m\r\n░░░░░░░░░░░░░░░░░░░░ [0/0] \u001B[2mInstalling wheels...                                 \u001B[0m\r\u001B[2K░░░░░░░░░░░░░░░░░░░░ [0/127] \u001B[2mInstalling wheels...                               \u001B[0m\u001B[1m\u001B[33mwarning\u001B[39m\u001B[0m\u001B[1m:\u001B[0m \u001B[1mFailed to hardlink files; falling back to full copy. This may lead to degraded performance.\r\n         If the cache and target directories are on different filesystems, hardlinking may not be supported.\r\n         If this is intentional, set `export UV_LINK_MODE=copy` or use `--link-mode=copy` to suppress this warning.\u001B[0m\r\n\r\u001B[2K░░░░░░░░░░░░░░░░░░░░ [0/127] \u001B[2mrignore==0.6.4                                     \u001B[0m\r\u001B[2K░░░░░░░░░░░░░░░░░░░░ [1/127] \u001B[2mrignore==0.6.4                                     \u001B[0m\r\u001B[2K░░░░░░░░░░░░░░░░░░░░ [1/127] \u001B[2mblake3==1.0.5                                      \u001B[0m\r\u001B[2K░░░░░░░░░░░░░░░░░░░░ [2/127] \u001B[2mblake3==1.0.5                                      \u001B[0m\r\u001B[2K░░░░░░░░░░░░░░░░░░░░ [2/127] \u001B[2mprometheus-fastapi-instrumentator==7.1.0           \u001B[0m\r\u001B[2K░░░░░░░░░░░░░░░░░░░░ [3/127] \u001B[2mprometheus-fastapi-instrumentator==7.1.0           \u001B[0m\r\u001B[2K░░░░░░░░░░░░░░░░░░░░ [3/127] \u001B[2mh11==0.16.0                                        \u001B[0m\r\u001B[2K░░░░░░░░░░░░░░░░░░░░ [4/127] \u001B[2mh11==0.16.0                                        \u001B[0m\r\u001B[2K░░░░░░░░░░░░░░░░░░░░ [4/127] \u001B[2msoundfile==0.13.1                                  \u001B[0m\r\u001B[2K░░░░░░░░░░░░░░░░░░░░ [5/127] \u001B[2msoundfile==0.13.1                                  \u001B[0m\r\u001B[2K░░░░░░░░░░░░░░░░░░░░ [5/127] \u001B[2msentencepiece==0.2.1                               \u001B[0m\r\u001B[2K░░░░░░░░░░░░░░░░░░░░ [6/127] \u001B[2msentencepiece==0.2.1                               \u001B[0m\r\u001B[2K░░░░░░░░░░░░░░░░░░░░ [6/127] \u001B[2mpydantic-extra-types==2.10.5                       \u001B[0m\r\u001B[2K█░░░░░░░░░░░░░░░░░░░ [7/127] \u001B[2mpydantic-extra-types==2.10.5                       \u001B[0m\r\u001B[2K█░░░░░░░░░░░░░░░░░░░ [7/127] \u001B[2mpropcache==0.3.2                                   \u001B[0m\r\u001B[2K█░░░░░░░░░░░░░░░░░░░ [8/127] \u001B[2mpropcache==0.3.2                                   \u001B[0m\r\u001B[2K█░░░░░░░░░░░░░░░░░░░ [8/127] \u001B[2mcachetools==6.2.0                                  \u001B[0m\r\u001B[2K█░░░░░░░░░░░░░░░░░░░ [9/127] \u001B[2mcachetools==6.2.0                                  \u001B[0m\r\u001B[2K█░░░░░░░░░░░░░░░░░░░ [9/127] \u001B[2mregex==2025.9.1                                    \u001B[0m\r\u001B[2K█░░░░░░░░░░░░░░░░░░░ [10/127] \u001B[2mregex==2025.9.1                                   \u001B[0m\r\u001B[2K█░░░░░░░░░░░░░░░░░░░ [10/127] \u001B[2msix==1.17.0                                       \u001B[0m\r\u001B[2K███████████░░░░░░░░░ [76/127] \u001B[2mwebsockets==15.0.1                                \u001B[0m\r\u001B[2K██████████████░░░░░░ [95/127] \u001B[2mtorchaudio==2.7.1                                 \u001B[0m\r\u001B[2K████████████████░░░░ [102/127] \u001B[2mnvidia-curand-cu12==10.3.7.77                    \u001B[0m\r\u001B[2K████████████████░░░░ [105/127] \u001B[2mnumba==0.61.2                                    \u001B[0m\r\u001B[2K████████████████░░░░ [106/127] \u001B[2mllvmlite==0.44.0                                 \u001B[0m\r\u001B[2K█████████████████░░░ [110/127] \u001B[2mnumpy==2.2.6                                     \u001B[0m\r\u001B[2K█████████████████░░░ [111/127] \u001B[2msympy==1.14.0                                    \u001B[0m\r\u001B[2K█████████████████░░░ [114/127] \u001B[2mnvidia-nccl-cu12==2.26.2                         \u001B[0m\r\u001B[2K██████████████████░░ [118/127] \u001B[2mtransformers==4.56.1                             \u001B[0m\r\u001B[2K██████████████████░░ [119/127] \u001B[2mcupy-cuda12x==13.6.0                             \u001B[0m\r\u001B[2K██████████████████░░ [120/127] \u001B[2mcupy-cuda12x==13.6.0                             \u001B[0m\r\u001B[2K██████████████████░░ [120/127] \u001B[2mray==2.49.1                                      \u001B[0m\r\u001B[2K███████████████████░ [122/127] \u001B[2mnvidia-cublas-cu12==12.6.4.1                     \u001B[0m\r\u001B[2K███████████████████░ [123/127] \u001B[2mnvidia-cublas-cu12==12.6.4.1                     \u001B[0m\r\u001B[2K███████████████████░ [123/127] \u001B[2mtriton==3.3.1                                    \u001B[0m\r\u001B[2K███████████████████░ [124/127] \u001B[2mtriton==3.3.1                                    \u001B[0m\r\u001B[2K███████████████████░ [124/127] \u001B[2mnvidia-cudnn-cu12==9.5.1.17                      \u001B[0m\r\u001B[2K███████████████████░ [125/127] \u001B[2mnvidia-cudnn-cu12==9.5.1.17                      \u001B[0m\r\u001B[2K███████████████████░ [125/127] \u001B[2mvllm==0.10.1.1                                   \u001B[0m\r\u001B[2K███████████████████░ [126/127] \u001B[2mvllm==0.10.1.1                                   \u001B[0m\r\u001B[2K███████████████████░ [126/127] \u001B[2mtorch==2.7.1                                     \u001B[0m\r\u001B[2K████████████████████ [127/127] \u001B[2mtorch==2.7.1                                     \u001B[0m\r\u001B[2K\u001B[2mInstalled \u001B[1m127 packages\u001B[0m \u001B[2min 3.26s\u001B[0m\u001B[0m\r\n \u001B[32m+\u001B[39m \u001B[1maiohappyeyeballs\u001B[0m\u001B[2m==2.6.1\u001B[0m\r\n \u001B[32m+\u001B[39m \u001B[1maiohttp\u001B[0m\u001B[2m==3.12.15\u001B[0m\r\n \u001B[32m+\u001B[39m \u001B[1maiosignal\u001B[0m\u001B[2m==1.4.0\u001B[0m\r\n \u001B[32m+\u001B[39m \u001B[1mannotated-types\u001B[0m\u001B[2m==0.7.0\u001B[0m\r\n \u001B[32m+\u001B[39m \u001B[1manyio\u001B[0m\u001B[2m==4.10.0\u001B[0m\r\n \u001B[32m+\u001B[39m \u001B[1mastor\u001B[0m\u001B[2m==0.8.1\u001B[0m\r\n \u001B[32m+\u001B[39m \u001B[1mattrs\u001B[0m\u001B[2m==25.3.0\u001B[0m\r\n \u001B[32m+\u001B[39m \u001B[1mblake3\u001B[0m\u001B[2m==1.0.5\u001B[0m\r\n \u001B[32m+\u001B[39m \u001B[1mcachetools\u001B[0m\u001B[2m==6.2.0\u001B[0m\r\n \u001B[32m+\u001B[39m \u001B[1mcbor2\u001B[0m\u001B[2m==5.7.0\u001B[0m\r\n \u001B[32m+\u001B[39m \u001B[1mcffi\u001B[0m\u001B[2m==2.0.0\u001B[0m\r\n \u001B[32m+\u001B[39m \u001B[1mclick\u001B[0m\u001B[2m==8.2.1\u001B[0m\r\n \u001B[32m+\u001B[39m \u001B[1mcloudpickle\u001B[0m\u001B[2m==3.1.1\u001B[0m\r\n \u001B[32m+\u001B[39m \u001B[1mcompressed-tensors\u001B[0m\u001B[2m==0.10.2\u001B[0m\r\n \u001B[32m+\u001B[39m \u001B[1mcupy-cuda12x\u001B[0m\u001B[2m==13.6.0\u001B[0m\r\n \u001B[32m+\u001B[39m \u001B[1mdepyf\u001B[0m\u001B[2m==0.19.0\u001B[0m\r\n \u001B[32m+\u001B[39m \u001B[1mdill\u001B[0m\u001B[2m==0.4.0\u001B[0m\r\n \u001B[32m+\u001B[39m \u001B[1mdiskcache\u001B[0m\u001B[2m==5.6.3\u001B[0m\r\n \u001B[32m+\u001B[39m \u001B[1mdistro\u001B[0m\u001B[2m==1.9.0\u001B[0m\r\n \u001B[32m+\u001B[39m \u001B[1mdnspython\u001B[0m\u001B[2m==2.8.0\u001B[0m\r\n \u001B[32m+\u001B[39m \u001B[1meinops\u001B[0m\u001B[2m==0.8.1\u001B[0m\r\n \u001B[32m+\u001B[39m \u001B[1memail-validator\u001B[0m\u001B[2m==2.3.0\u001B[0m\r\n \u001B[32m+\u001B[39m \u001B[1mfastapi\u001B[0m\u001B[2m==0.116.2\u001B[0m\r\n \u001B[32m+\u001B[39m \u001B[1mfastapi-cli\u001B[0m\u001B[2m==0.0.11\u001B[0m\r\n \u001B[32m+\u001B[39m \u001B[1mfastapi-cloud-cli\u001B[0m\u001B[2m==0.1.5\u001B[0m\r\n \u001B[32m+\u001B[39m \u001B[1mfastrlock\u001B[0m\u001B[2m==0.8.3\u001B[0m\r\n \u001B[32m+\u001B[39m \u001B[1mfrozenlist\u001B[0m\u001B[2m==1.7.0\u001B[0m\r\n \u001B[32m+\u001B[39m \u001B[1mgguf\u001B[0m\u001B[2m==0.17.1\u001B[0m\r\n \u001B[32m+\u001B[39m \u001B[1mh11\u001B[0m\u001B[2m==0.16.0\u001B[0m\r\n \u001B[32m+\u001B[39m \u001B[1mhttpcore\u001B[0m\u001B[2m==1.0.9\u001B[0m\r\n \u001B[32m+\u001B[39m \u001B[1mhttptools\u001B[0m\u001B[2m==0.6.4\u001B[0m\r\n \u001B[32m+\u001B[39m \u001B[1mhttpx\u001B[0m\u001B[2m==0.28.1\u001B[0m\r\n \u001B[32m+\u001B[39m \u001B[1minteregular\u001B[0m\u001B[2m==0.3.3\u001B[0m\r\n \u001B[32m+\u001B[39m \u001B[1mjinja2\u001B[0m\u001B[2m==3.1.6\u001B[0m\r\n \u001B[32m+\u001B[39m \u001B[1mjiter\u001B[0m\u001B[2m==0.11.0\u001B[0m\r\n \u001B[32m+\u001B[39m \u001B[1mjsonschema\u001B[0m\u001B[2m==4.25.1\u001B[0m\r\n \u001B[32m+\u001B[39m \u001B[1mjsonschema-specifications\u001B[0m\u001B[2m==2025.9.1\u001B[0m\r\n \u001B[32m+\u001B[39m \u001B[1mlark\u001B[0m\u001B[2m==1.2.2\u001B[0m\r\n \u001B[32m+\u001B[39m \u001B[1mllguidance\u001B[0m\u001B[2m==0.7.30\u001B[0m\r\n \u001B[32m+\u001B[39m \u001B[1mllvmlite\u001B[0m\u001B[2m==0.44.0\u001B[0m\r\n \u001B[32m+\u001B[39m \u001B[1mlm-format-enforcer\u001B[0m\u001B[2m==0.10.12\u001B[0m\r\n \u001B[32m+\u001B[39m \u001B[1mmarkdown-it-py\u001B[0m\u001B[2m==4.0.0\u001B[0m\r\n \u001B[32m+\u001B[39m \u001B[1mmarkupsafe\u001B[0m\u001B[2m==3.0.2\u001B[0m\r\n \u001B[32m+\u001B[39m \u001B[1mmdurl\u001B[0m\u001B[2m==0.1.2\u001B[0m\r\n \u001B[32m+\u001B[39m \u001B[1mmistral-common\u001B[0m\u001B[2m==1.8.5\u001B[0m\r\n \u001B[32m+\u001B[39m \u001B[1mmpmath\u001B[0m\u001B[2m==1.3.0\u001B[0m\r\n \u001B[32m+\u001B[39m \u001B[1mmsgpack\u001B[0m\u001B[2m==1.1.1\u001B[0m\r\n \u001B[32m+\u001B[39m \u001B[1mmsgspec\u001B[0m\u001B[2m==0.19.0\u001B[0m\r\n \u001B[32m+\u001B[39m \u001B[1mmultidict\u001B[0m\u001B[2m==6.6.4\u001B[0m\r\n \u001B[32m+\u001B[39m \u001B[1mnetworkx\u001B[0m\u001B[2m==3.5\u001B[0m\r\n \u001B[32m+\u001B[39m \u001B[1mninja\u001B[0m\u001B[2m==1.13.0\u001B[0m\r\n \u001B[32m+\u001B[39m \u001B[1mnumba\u001B[0m\u001B[2m==0.61.2\u001B[0m\r\n \u001B[32m+\u001B[39m \u001B[1mnumpy\u001B[0m\u001B[2m==2.2.6\u001B[0m\r\n \u001B[32m+\u001B[39m \u001B[1mnvidia-cublas-cu12\u001B[0m\u001B[2m==12.6.4.1\u001B[0m\r\n \u001B[32m+\u001B[39m \u001B[1mnvidia-cuda-cupti-cu12\u001B[0m\u001B[2m==12.6.80\u001B[0m\r\n \u001B[32m+\u001B[39m \u001B[1mnvidia-cuda-nvrtc-cu12\u001B[0m\u001B[2m==12.6.77\u001B[0m\r\n \u001B[32m+\u001B[39m \u001B[1mnvidia-cuda-runtime-cu12\u001B[0m\u001B[2m==12.6.77\u001B[0m\r\n \u001B[32m+\u001B[39m \u001B[1mnvidia-cudnn-cu12\u001B[0m\u001B[2m==9.5.1.17\u001B[0m\r\n \u001B[32m+\u001B[39m \u001B[1mnvidia-cufft-cu12\u001B[0m\u001B[2m==11.3.0.4\u001B[0m\r\n \u001B[32m+\u001B[39m \u001B[1mnvidia-cufile-cu12\u001B[0m\u001B[2m==1.11.1.6\u001B[0m\r\n \u001B[32m+\u001B[39m \u001B[1mnvidia-curand-cu12\u001B[0m\u001B[2m==10.3.7.77\u001B[0m\r\n \u001B[32m+\u001B[39m \u001B[1mnvidia-cusolver-cu12\u001B[0m\u001B[2m==11.7.1.2\u001B[0m\r\n \u001B[32m+\u001B[39m \u001B[1mnvidia-cusparse-cu12\u001B[0m\u001B[2m==12.5.4.2\u001B[0m\r\n \u001B[32m+\u001B[39m \u001B[1mnvidia-cusparselt-cu12\u001B[0m\u001B[2m==0.6.3\u001B[0m\r\n \u001B[32m+\u001B[39m \u001B[1mnvidia-nccl-cu12\u001B[0m\u001B[2m==2.26.2\u001B[0m\r\n \u001B[32m+\u001B[39m \u001B[1mnvidia-nvjitlink-cu12\u001B[0m\u001B[2m==12.6.85\u001B[0m\r\n \u001B[32m+\u001B[39m \u001B[1mnvidia-nvtx-cu12\u001B[0m\u001B[2m==12.6.77\u001B[0m\r\n \u001B[32m+\u001B[39m \u001B[1mopenai\u001B[0m\u001B[2m==1.107.3\u001B[0m\r\n \u001B[32m+\u001B[39m \u001B[1mopenai-harmony\u001B[0m\u001B[2m==0.0.4\u001B[0m\r\n \u001B[32m+\u001B[39m \u001B[1mopencv-python-headless\u001B[0m\u001B[2m==4.12.0.88\u001B[0m\r\n \u001B[32m+\u001B[39m \u001B[1moutlines-core\u001B[0m\u001B[2m==0.2.10\u001B[0m\r\n \u001B[32m+\u001B[39m \u001B[1mpartial-json-parser\u001B[0m\u001B[2m==0.2.1.1.post6\u001B[0m\r\n \u001B[32m+\u001B[39m \u001B[1mpillow\u001B[0m\u001B[2m==11.3.0\u001B[0m\r\n \u001B[32m+\u001B[39m \u001B[1mprometheus-client\u001B[0m\u001B[2m==0.22.1\u001B[0m\r\n \u001B[32m+\u001B[39m \u001B[1mprometheus-fastapi-instrumentator\u001B[0m\u001B[2m==7.1.0\u001B[0m\r\n \u001B[32m+\u001B[39m \u001B[1mpropcache\u001B[0m\u001B[2m==0.3.2\u001B[0m\r\n \u001B[32m+\u001B[39m \u001B[1mprotobuf\u001B[0m\u001B[2m==6.32.1\u001B[0m\r\n \u001B[32m+\u001B[39m \u001B[1mpsutil\u001B[0m\u001B[2m==7.0.0\u001B[0m\r\n \u001B[32m+\u001B[39m \u001B[1mpy-cpuinfo\u001B[0m\u001B[2m==9.0.0\u001B[0m\r\n \u001B[32m+\u001B[39m \u001B[1mpybase64\u001B[0m\u001B[2m==1.4.2\u001B[0m\r\n \u001B[32m+\u001B[39m \u001B[1mpycountry\u001B[0m\u001B[2m==24.6.1\u001B[0m\r\n \u001B[32m+\u001B[39m \u001B[1mpycparser\u001B[0m\u001B[2m==2.23\u001B[0m\r\n \u001B[32m+\u001B[39m \u001B[1mpydantic\u001B[0m\u001B[2m==2.11.9\u001B[0m\r\n \u001B[32m+\u001B[39m \u001B[1mpydantic-core\u001B[0m\u001B[2m==2.33.2\u001B[0m\r\n \u001B[32m+\u001B[39m \u001B[1mpydantic-extra-types\u001B[0m\u001B[2m==2.10.5\u001B[0m\r\n \u001B[32m+\u001B[39m \u001B[1mpygments\u001B[0m\u001B[2m==2.19.2\u001B[0m\r\n \u001B[32m+\u001B[39m \u001B[1mpython-dotenv\u001B[0m\u001B[2m==1.1.1\u001B[0m\r\n \u001B[32m+\u001B[39m \u001B[1mpython-json-logger\u001B[0m\u001B[2m==3.3.0\u001B[0m\r\n \u001B[32m+\u001B[39m \u001B[1mpython-multipart\u001B[0m\u001B[2m==0.0.20\u001B[0m\r\n \u001B[32m+\u001B[39m \u001B[1mpyzmq\u001B[0m\u001B[2m==27.1.0\u001B[0m\r\n \u001B[32m+\u001B[39m \u001B[1mray\u001B[0m\u001B[2m==2.49.1\u001B[0m\r\n \u001B[32m+\u001B[39m \u001B[1mreferencing\u001B[0m\u001B[2m==0.36.2\u001B[0m\r\n \u001B[32m+\u001B[39m \u001B[1mregex\u001B[0m\u001B[2m==2025.9.1\u001B[0m\r\n \u001B[32m+\u001B[39m \u001B[1mrich\u001B[0m\u001B[2m==14.1.0\u001B[0m\r\n \u001B[32m+\u001B[39m \u001B[1mrich-toolkit\u001B[0m\u001B[2m==0.15.1\u001B[0m\r\n \u001B[32m+\u001B[39m \u001B[1mrignore\u001B[0m\u001B[2m==0.6.4\u001B[0m\r\n \u001B[32m+\u001B[39m \u001B[1mrpds-py\u001B[0m\u001B[2m==0.27.1\u001B[0m\r\n \u001B[32m+\u001B[39m \u001B[1msafetensors\u001B[0m\u001B[2m==0.6.2\u001B[0m\r\n \u001B[32m+\u001B[39m \u001B[1mscipy\u001B[0m\u001B[2m==1.16.2\u001B[0m\r\n \u001B[32m+\u001B[39m \u001B[1msentencepiece\u001B[0m\u001B[2m==0.2.1\u001B[0m\r\n \u001B[32m+\u001B[39m \u001B[1msentry-sdk\u001B[0m\u001B[2m==2.38.0\u001B[0m\r\n \u001B[32m+\u001B[39m \u001B[1msetproctitle\u001B[0m\u001B[2m==1.3.7\u001B[0m\r\n \u001B[32m+\u001B[39m \u001B[1msetuptools\u001B[0m\u001B[2m==79.0.1\u001B[0m\r\n \u001B[32m+\u001B[39m \u001B[1mshellingham\u001B[0m\u001B[2m==1.5.4\u001B[0m\r\n \u001B[32m+\u001B[39m \u001B[1msix\u001B[0m\u001B[2m==1.17.0\u001B[0m\r\n \u001B[32m+\u001B[39m \u001B[1msniffio\u001B[0m\u001B[2m==1.3.1\u001B[0m\r\n \u001B[32m+\u001B[39m \u001B[1msoundfile\u001B[0m\u001B[2m==0.13.1\u001B[0m\r\n \u001B[32m+\u001B[39m \u001B[1msoxr\u001B[0m\u001B[2m==1.0.0\u001B[0m\r\n \u001B[32m+\u001B[39m \u001B[1mstarlette\u001B[0m\u001B[2m==0.48.0\u001B[0m\r\n \u001B[32m+\u001B[39m \u001B[1msympy\u001B[0m\u001B[2m==1.14.0\u001B[0m\r\n \u001B[32m+\u001B[39m \u001B[1mtiktoken\u001B[0m\u001B[2m==0.11.0\u001B[0m\r\n \u001B[32m+\u001B[39m \u001B[1mtokenizers\u001B[0m\u001B[2m==0.22.0\u001B[0m\r\n \u001B[32m+\u001B[39m \u001B[1mtorch\u001B[0m\u001B[2m==2.7.1\u001B[0m\r\n \u001B[32m+\u001B[39m \u001B[1mtorchaudio\u001B[0m\u001B[2m==2.7.1\u001B[0m\r\n \u001B[32m+\u001B[39m \u001B[1mtorchvision\u001B[0m\u001B[2m==0.22.1\u001B[0m\r\n \u001B[32m+\u001B[39m \u001B[1mtransformers\u001B[0m\u001B[2m==4.56.1\u001B[0m\r\n \u001B[32m+\u001B[39m \u001B[1mtriton\u001B[0m\u001B[2m==3.3.1\u001B[0m\r\n \u001B[32m+\u001B[39m \u001B[1mtyper\u001B[0m\u001B[2m==0.17.4\u001B[0m\r\n \u001B[32m+\u001B[39m \u001B[1mtyping-inspection\u001B[0m\u001B[2m==0.4.1\u001B[0m\r\n \u001B[32m+\u001B[39m \u001B[1muvicorn\u001B[0m\u001B[2m==0.35.0\u001B[0m\r\n \u001B[32m+\u001B[39m \u001B[1muvloop\u001B[0m\u001B[2m==0.21.0\u001B[0m\r\n \u001B[32m+\u001B[39m \u001B[1mvllm\u001B[0m\u001B[2m==0.10.1.1\u001B[0m\r\n \u001B[32m+\u001B[39m \u001B[1mwatchfiles\u001B[0m\u001B[2m==1.1.0\u001B[0m\r\n \u001B[32m+\u001B[39m \u001B[1mwebsockets\u001B[0m\u001B[2m==15.0.1\u001B[0m\r\n \u001B[32m+\u001B[39m \u001B[1mxformers\u001B[0m\u001B[2m==0.0.31\u001B[0m\r\n \u001B[32m+\u001B[39m \u001B[1mxgrammar\u001B[0m\u001B[2m==0.1.21\u001B[0m\r\n \u001B[32m+\u001B[39m \u001B[1myarl\u001B[0m\u001B[2m==1.20.1\u001B[0m\r\n"
     ]
    }
   ],
   "source": [
    "!uv pip install huggingface_hub\n",
    "!uv pip install \"vllm==0.10.1.1\""
   ]
  },
  {
   "cell_type": "code",
   "execution_count": 0,
   "metadata": {
    "application/vnd.databricks.v1+cell": {
     "cellMetadata": {
      "byteLimit": 2048000,
      "rowLimit": 10000
     },
     "inputWidgets": {},
     "nuid": "8b0c15aa-86cf-4553-8ba3-0c3eb07ff8f7",
     "showTitle": false,
     "tableResultSettingsMap": {},
     "title": ""
    }
   },
   "outputs": [
    {
     "output_type": "stream",
     "name": "stdout",
     "output_type": "stream",
     "text": [
      "Found existing installation: numpy 2.2.6\nUninstalling numpy-2.2.6:\n  Successfully uninstalled numpy-2.2.6\n\u001B[43mNote: you may need to restart the kernel using %restart_python or dbutils.library.restartPython() to use updated packages.\u001B[0m\n"
     ]
    }
   ],
   "source": [
    "!pip uninstall numpy -y"
   ]
  },
  {
   "cell_type": "code",
   "execution_count": 0,
   "metadata": {
    "application/vnd.databricks.v1+cell": {
     "cellMetadata": {
      "byteLimit": 2048000,
      "rowLimit": 10000
     },
     "inputWidgets": {},
     "nuid": "a147f39f-894e-427f-af5c-70cb25970c1a",
     "showTitle": false,
     "tableResultSettingsMap": {},
     "title": ""
    }
   },
   "outputs": [],
   "source": [
    "%restart_python"
   ]
  },
  {
   "cell_type": "code",
   "execution_count": 0,
   "metadata": {
    "application/vnd.databricks.v1+cell": {
     "cellMetadata": {
      "byteLimit": 2048000,
      "rowLimit": 10000
     },
     "inputWidgets": {},
     "nuid": "e50098c4-480a-4f69-9fbd-8edf38d87733",
     "showTitle": false,
     "tableResultSettingsMap": {},
     "title": ""
    }
   },
   "outputs": [
    {
     "output_type": "display_data",
     "data": {
      "application/vnd.jupyter.widget-view+json": {
       "model_id": "85cbc890573e438784c480bd21a4cd2d",
       "version_major": 2,
       "version_minor": 0
      },
      "text/plain": [
       "Fetching 34 files:   0%|          | 0/34 [00:00<?, ?it/s]"
      ]
     },
     "metadata": {},
     "output_type": "display_data"
    },
    {
     "output_type": "display_data",
     "data": {
      "application/vnd.jupyter.widget-view+json": {
       "model_id": "fa21e20be8c54128a4dc7c09d96d8a2c",
       "version_major": 2,
       "version_minor": 0
      },
      "text/plain": [
       "LICENSE: 0.00B [00:00, ?B/s]"
      ]
     },
     "metadata": {},
     "output_type": "display_data"
    },
    {
     "output_type": "display_data",
     "data": {
      "application/vnd.jupyter.widget-view+json": {
       "model_id": "3ca0eeda07b449419a558bc158476599",
       "version_major": 2,
       "version_minor": 0
      },
      "text/plain": [
       "config.json: 0.00B [00:00, ?B/s]"
      ]
     },
     "metadata": {},
     "output_type": "display_data"
    },
    {
     "output_type": "display_data",
     "data": {
      "application/vnd.jupyter.widget-view+json": {
       "model_id": "19b0ba0248064fc4a17a0543575ea7ec",
       "version_major": 2,
       "version_minor": 0
      },
      "text/plain": [
       "README.md: 0.00B [00:00, ?B/s]"
      ]
     },
     "metadata": {},
     "output_type": "display_data"
    },
    {
     "output_type": "display_data",
     "data": {
      "application/vnd.jupyter.widget-view+json": {
       "model_id": "ccf8ae1e155d4194b1815029ea8ed6ce",
       "version_major": 2,
       "version_minor": 0
      },
      "text/plain": [
       ".gitattributes: 0.00B [00:00, ?B/s]"
      ]
     },
     "metadata": {},
     "output_type": "display_data"
    },
    {
     "output_type": "display_data",
     "data": {
      "application/vnd.jupyter.widget-view+json": {
       "model_id": "8a9788bc98d64109a216839c76f22b77",
       "version_major": 2,
       "version_minor": 0
      },
      "text/plain": [
       "generation_config.json:   0%|          | 0.00/239 [00:00<?, ?B/s]"
      ]
     },
     "metadata": {},
     "output_type": "display_data"
    },
    {
     "output_type": "display_data",
     "data": {
      "application/vnd.jupyter.widget-view+json": {
       "model_id": "8d86c75f9e9640f091add0d1a4ff1796",
       "version_major": 2,
       "version_minor": 0
      },
      "text/plain": [
       "merges.txt: 0.00B [00:00, ?B/s]"
      ]
     },
     "metadata": {},
     "output_type": "display_data"
    },
    {
     "output_type": "display_data",
     "data": {
      "application/vnd.jupyter.widget-view+json": {
       "model_id": "f661873b0c674f75ad073991b6808252",
       "version_major": 2,
       "version_minor": 0
      },
      "text/plain": [
       "model-00001-of-00024.safetensors:   0%|          | 0.00/10.0G [00:00<?, ?B/s]"
      ]
     },
     "metadata": {},
     "output_type": "display_data"
    },
    {
     "output_type": "display_data",
     "data": {
      "application/vnd.jupyter.widget-view+json": {
       "model_id": "01dc208a7c29421589be10fe1be7ee87",
       "version_major": 2,
       "version_minor": 0
      },
      "text/plain": [
       "model-00002-of-00024.safetensors:   0%|          | 0.00/10.0G [00:00<?, ?B/s]"
      ]
     },
     "metadata": {},
     "output_type": "display_data"
    },
    {
     "output_type": "display_data",
     "data": {
      "application/vnd.jupyter.widget-view+json": {
       "model_id": "0a7954c84f2a496f82fff583d87850c3",
       "version_major": 2,
       "version_minor": 0
      },
      "text/plain": [
       "model-00003-of-00024.safetensors:   0%|          | 0.00/10.0G [00:00<?, ?B/s]"
      ]
     },
     "metadata": {},
     "output_type": "display_data"
    },
    {
     "output_type": "display_data",
     "data": {
      "application/vnd.jupyter.widget-view+json": {
       "model_id": "f4926e482d1e44da9fa1b1d9dbfc3a60",
       "version_major": 2,
       "version_minor": 0
      },
      "text/plain": [
       "model-00004-of-00024.safetensors:   0%|          | 0.00/10.0G [00:00<?, ?B/s]"
      ]
     },
     "metadata": {},
     "output_type": "display_data"
    },
    {
     "output_type": "display_data",
     "data": {
      "application/vnd.jupyter.widget-view+json": {
       "model_id": "2b71ee2a546c48d7b3acf29f106120b0",
       "version_major": 2,
       "version_minor": 0
      },
      "text/plain": [
       "model-00005-of-00024.safetensors:   0%|          | 0.00/10.0G [00:00<?, ?B/s]"
      ]
     },
     "metadata": {},
     "output_type": "display_data"
    },
    {
     "output_type": "display_data",
     "data": {
      "application/vnd.jupyter.widget-view+json": {
       "model_id": "28691de0529b48eb8dca11aa8d5df204",
       "version_major": 2,
       "version_minor": 0
      },
      "text/plain": [
       "model-00006-of-00024.safetensors:   0%|          | 0.00/10.0G [00:00<?, ?B/s]"
      ]
     },
     "metadata": {},
     "output_type": "display_data"
    },
    {
     "output_type": "display_data",
     "data": {
      "application/vnd.jupyter.widget-view+json": {
       "model_id": "e29ad1d3139a4f3cb4c2a63a4fdb0f5e",
       "version_major": 2,
       "version_minor": 0
      },
      "text/plain": [
       "model-00007-of-00024.safetensors:   0%|          | 0.00/10.0G [00:00<?, ?B/s]"
      ]
     },
     "metadata": {},
     "output_type": "display_data"
    },
    {
     "output_type": "display_data",
     "data": {
      "application/vnd.jupyter.widget-view+json": {
       "model_id": "ee86ef1a23974602bf3e2278bd5494ec",
       "version_major": 2,
       "version_minor": 0
      },
      "text/plain": [
       "model-00008-of-00024.safetensors:   0%|          | 0.00/10.0G [00:00<?, ?B/s]"
      ]
     },
     "metadata": {},
     "output_type": "display_data"
    },
    {
     "output_type": "display_data",
     "data": {
      "application/vnd.jupyter.widget-view+json": {
       "model_id": "16c47febe3f3490b86320abea8fc9b25",
       "version_major": 2,
       "version_minor": 0
      },
      "text/plain": [
       "model-00009-of-00024.safetensors:   0%|          | 0.00/10.0G [00:00<?, ?B/s]"
      ]
     },
     "metadata": {},
     "output_type": "display_data"
    },
    {
     "output_type": "display_data",
     "data": {
      "application/vnd.jupyter.widget-view+json": {
       "model_id": "0adfdcbea8f34e7ea1287b70ef313abf",
       "version_major": 2,
       "version_minor": 0
      },
      "text/plain": [
       "model-00010-of-00024.safetensors:   0%|          | 0.00/10.0G [00:00<?, ?B/s]"
      ]
     },
     "metadata": {},
     "output_type": "display_data"
    },
    {
     "output_type": "display_data",
     "data": {
      "application/vnd.jupyter.widget-view+json": {
       "model_id": "6d544bea507e4e238cc1d5004647206c",
       "version_major": 2,
       "version_minor": 0
      },
      "text/plain": [
       "model-00011-of-00024.safetensors:   0%|          | 0.00/10.0G [00:00<?, ?B/s]"
      ]
     },
     "metadata": {},
     "output_type": "display_data"
    },
    {
     "output_type": "display_data",
     "data": {
      "application/vnd.jupyter.widget-view+json": {
       "model_id": "ec16f1e10a044fca9b90558eaf224a8a",
       "version_major": 2,
       "version_minor": 0
      },
      "text/plain": [
       "model-00012-of-00024.safetensors:   0%|          | 0.00/10.0G [00:00<?, ?B/s]"
      ]
     },
     "metadata": {},
     "output_type": "display_data"
    },
    {
     "output_type": "display_data",
     "data": {
      "application/vnd.jupyter.widget-view+json": {
       "model_id": "1519ca6c240546f99e8e4b99cfedcbf7",
       "version_major": 2,
       "version_minor": 0
      },
      "text/plain": [
       "model-00013-of-00024.safetensors:   0%|          | 0.00/10.0G [00:00<?, ?B/s]"
      ]
     },
     "metadata": {},
     "output_type": "display_data"
    },
    {
     "output_type": "display_data",
     "data": {
      "application/vnd.jupyter.widget-view+json": {
       "model_id": "110e63bce6e54529b4473368021d0ca4",
       "version_major": 2,
       "version_minor": 0
      },
      "text/plain": [
       "model-00014-of-00024.safetensors:   0%|          | 0.00/10.0G [00:00<?, ?B/s]"
      ]
     },
     "metadata": {},
     "output_type": "display_data"
    },
    {
     "output_type": "display_data",
     "data": {
      "application/vnd.jupyter.widget-view+json": {
       "model_id": "22e0dc5f15824871872b74cb17f4115e",
       "version_major": 2,
       "version_minor": 0
      },
      "text/plain": [
       "model-00015-of-00024.safetensors:   0%|          | 0.00/10.0G [00:00<?, ?B/s]"
      ]
     },
     "metadata": {},
     "output_type": "display_data"
    },
    {
     "output_type": "display_data",
     "data": {
      "application/vnd.jupyter.widget-view+json": {
       "model_id": "917c4a34a30f47cdba624e89c1daff4c",
       "version_major": 2,
       "version_minor": 0
      },
      "text/plain": [
       "model-00016-of-00024.safetensors:   0%|          | 0.00/10.0G [00:00<?, ?B/s]"
      ]
     },
     "metadata": {},
     "output_type": "display_data"
    },
    {
     "output_type": "display_data",
     "data": {
      "application/vnd.jupyter.widget-view+json": {
       "model_id": "7013f0f0def64ab69fe6b31e1e194061",
       "version_major": 2,
       "version_minor": 0
      },
      "text/plain": [
       "model-00017-of-00024.safetensors:   0%|          | 0.00/10.0G [00:00<?, ?B/s]"
      ]
     },
     "metadata": {},
     "output_type": "display_data"
    },
    {
     "output_type": "display_data",
     "data": {
      "application/vnd.jupyter.widget-view+json": {
       "model_id": "50fc56c55c8640ffbf6975c535b17919",
       "version_major": 2,
       "version_minor": 0
      },
      "text/plain": [
       "model-00018-of-00024.safetensors:   0%|          | 0.00/10.0G [00:00<?, ?B/s]"
      ]
     },
     "metadata": {},
     "output_type": "display_data"
    },
    {
     "output_type": "display_data",
     "data": {
      "application/vnd.jupyter.widget-view+json": {
       "model_id": "0aa0beb3d7814c92b46c77c387e9bab1",
       "version_major": 2,
       "version_minor": 0
      },
      "text/plain": [
       "model-00019-of-00024.safetensors:   0%|          | 0.00/10.0G [00:00<?, ?B/s]"
      ]
     },
     "metadata": {},
     "output_type": "display_data"
    },
    {
     "output_type": "display_data",
     "data": {
      "application/vnd.jupyter.widget-view+json": {
       "model_id": "7b76c6d99e964a1593c82787b45d5657",
       "version_major": 2,
       "version_minor": 0
      },
      "text/plain": [
       "model-00020-of-00024.safetensors:   0%|          | 0.00/10.0G [00:00<?, ?B/s]"
      ]
     },
     "metadata": {},
     "output_type": "display_data"
    },
    {
     "output_type": "display_data",
     "data": {
      "application/vnd.jupyter.widget-view+json": {
       "model_id": "46f5106599df4b52ba0f7ae9b34b281d",
       "version_major": 2,
       "version_minor": 0
      },
      "text/plain": [
       "model-00021-of-00024.safetensors:   0%|          | 0.00/10.0G [00:00<?, ?B/s]"
      ]
     },
     "metadata": {},
     "output_type": "display_data"
    },
    {
     "output_type": "display_data",
     "data": {
      "application/vnd.jupyter.widget-view+json": {
       "model_id": "b298e7243daf4b7fb979c51474df640b",
       "version_major": 2,
       "version_minor": 0
      },
      "text/plain": [
       "model-00022-of-00024.safetensors:   0%|          | 0.00/10.0G [00:00<?, ?B/s]"
      ]
     },
     "metadata": {},
     "output_type": "display_data"
    },
    {
     "output_type": "display_data",
     "data": {
      "application/vnd.jupyter.widget-view+json": {
       "model_id": "d3c127aac6f648c2b048571e2a664ee7",
       "version_major": 2,
       "version_minor": 0
      },
      "text/plain": [
       "model-00023-of-00024.safetensors:   0%|          | 0.00/10.0G [00:00<?, ?B/s]"
      ]
     },
     "metadata": {},
     "output_type": "display_data"
    },
    {
     "output_type": "display_data",
     "data": {
      "application/vnd.jupyter.widget-view+json": {
       "model_id": "d8036e20982746bfb69708f5f9267ccb",
       "version_major": 2,
       "version_minor": 0
      },
      "text/plain": [
       "model-00024-of-00024.safetensors:   0%|          | 0.00/6.45G [00:00<?, ?B/s]"
      ]
     },
     "metadata": {},
     "output_type": "display_data"
    },
    {
     "output_type": "display_data",
     "data": {
      "application/vnd.jupyter.widget-view+json": {
       "model_id": "4459730ebee44c1784b4e00c268ca34c",
       "version_major": 2,
       "version_minor": 0
      },
      "text/plain": [
       "model.safetensors.index.json: 0.00B [00:00, ?B/s]"
      ]
     },
     "metadata": {},
     "output_type": "display_data"
    },
    {
     "output_type": "display_data",
     "data": {
      "application/vnd.jupyter.widget-view+json": {
       "model_id": "6d1238ab903944b98410365a28b28aaa",
       "version_major": 2,
       "version_minor": 0
      },
      "text/plain": [
       "tokenizer.json:   0%|          | 0.00/11.4M [00:00<?, ?B/s]"
      ]
     },
     "metadata": {},
     "output_type": "display_data"
    },
    {
     "output_type": "display_data",
     "data": {
      "application/vnd.jupyter.widget-view+json": {
       "model_id": "22bbf5a914154b0598e9e037d6dfca05",
       "version_major": 2,
       "version_minor": 0
      },
      "text/plain": [
       "tokenizer_config.json: 0.00B [00:00, ?B/s]"
      ]
     },
     "metadata": {},
     "output_type": "display_data"
    },
    {
     "output_type": "display_data",
     "data": {
      "application/vnd.jupyter.widget-view+json": {
       "model_id": "4458a0fe8bc84c9d98345a9bd70a3299",
       "version_major": 2,
       "version_minor": 0
      },
      "text/plain": [
       "vocab.json: 0.00B [00:00, ?B/s]"
      ]
     },
     "metadata": {},
     "output_type": "display_data"
    },
    {
     "output_type": "stream",
     "name": "stdout",
     "output_type": "stream",
     "text": [
      "/local_disk0/models/Qwen/Qwen3-235B-A22B-Instruct-2507-FP8\n"
     ]
    }
   ],
   "source": [
    "import os\n",
    "from huggingface_hub import snapshot_download\n",
    "\n",
    "# os.environ['HF_HUB_ENABLE_HF_TRANSFER'] = '1'\n",
    "\n",
    "def dump_model_to_local(model_id, base_path=\"/local_disk0/models/\", num_workers=4, ignore_patterns=\"*consolidated*\"):\n",
    "\n",
    "    print(snapshot_download(repo_id=model_id, local_dir=base_path + model_id, max_workers=num_workers, ignore_patterns=ignore_patterns))\n",
    "\n",
    "dump_model_to_local(\"Qwen/Qwen3-235B-A22B-Instruct-2507-FP8\")\n",
    "\n",
    "# !mkdir -p /Volumes/sandbox/nbilla/testing/models/Qwen/Qwen3-0.6B/\n",
    "# !cp -r /tmp/models/Qwen/Qwen3-0.6B /Volumes/sandbox/nbilla/testing/models/Qwen/\n",
    "\n",
    "# # !mkdir -p /Volumes/sandbox/nbilla/testing/models/Qwen/Qwen3-0.6B/\n",
    "# # !cp -r /tmp/models/Qwen/Qwen3-0.6B /Volumes/sandbox/nbilla/testing/models/Qwen/"
   ]
  },
  {
   "cell_type": "code",
   "execution_count": 0,
   "metadata": {
    "application/vnd.databricks.v1+cell": {
     "cellMetadata": {
      "byteLimit": 2048000,
      "rowLimit": 10000
     },
     "inputWidgets": {},
     "nuid": "13fd6764-9e92-4034-adbc-f117b6ed5011",
     "showTitle": false,
     "tableResultSettingsMap": {},
     "title": ""
    }
   },
   "outputs": [
    {
     "output_type": "stream",
     "name": "stdout",
     "output_type": "stream",
     "text": [
      "LICENSE\t\t\t\t  model-00013-of-00024.safetensors\r\nREADME.md\t\t\t  model-00014-of-00024.safetensors\r\nconfig.json\t\t\t  model-00015-of-00024.safetensors\r\ngeneration_config.json\t\t  model-00016-of-00024.safetensors\r\nmerges.txt\t\t\t  model-00017-of-00024.safetensors\r\nmodel-00001-of-00024.safetensors  model-00018-of-00024.safetensors\r\nmodel-00002-of-00024.safetensors  model-00019-of-00024.safetensors\r\nmodel-00003-of-00024.safetensors  model-00020-of-00024.safetensors\r\nmodel-00004-of-00024.safetensors  model-00021-of-00024.safetensors\r\nmodel-00005-of-00024.safetensors  model-00022-of-00024.safetensors\r\nmodel-00006-of-00024.safetensors  model-00023-of-00024.safetensors\r\nmodel-00007-of-00024.safetensors  model-00024-of-00024.safetensors\r\nmodel-00008-of-00024.safetensors  model.safetensors.index.json\r\nmodel-00009-of-00024.safetensors  tokenizer.json\r\nmodel-00010-of-00024.safetensors  tokenizer_config.json\r\nmodel-00011-of-00024.safetensors  vocab.json\r\nmodel-00012-of-00024.safetensors\r\n"
     ]
    }
   ],
   "source": [
    "!ls /local_disk0/models/Qwen/Qwen3-235B-A22B-Instruct-2507-FP8"
   ]
  },
  {
   "cell_type": "code",
   "execution_count": 0,
   "metadata": {
    "application/vnd.databricks.v1+cell": {
     "cellMetadata": {
      "byteLimit": 2048000,
      "rowLimit": 10000
     },
     "inputWidgets": {},
     "nuid": "22835614-c780-4e08-82e3-4a5aecbffd03",
     "showTitle": false,
     "tableResultSettingsMap": {},
     "title": ""
    }
   },
   "outputs": [],
   "source": [
    "%restart_python"
   ]
  },
  {
   "cell_type": "code",
   "execution_count": 0,
   "metadata": {
    "application/vnd.databricks.v1+cell": {
     "cellMetadata": {
      "byteLimit": 2048000,
      "rowLimit": 10000
     },
     "inputWidgets": {},
     "nuid": "0aaa93dc-b45f-4a5b-aff5-f319382a1bd2",
     "showTitle": false,
     "tableResultSettingsMap": {},
     "title": ""
    }
   },
   "outputs": [
    {
     "output_type": "stream",
     "name": "stdout",
     "output_type": "stream",
     "text": [
      "\ndriver_proxy_api = 'https://e2-demo-field-eng.cloud.databricks.com/driver-proxy-api/o/0/0915-194316-vqbbk5bl/1111/v1'\ncluster_id = '0915-194316-vqbbk5bl'\nport = 1111\n\n"
     ]
    }
   ],
   "source": [
    "from dbruntime.databricks_repl_context import get_context\n",
    "ctx = get_context()\n",
    "\n",
    "port = \"1111\"\n",
    "driver_proxy_api = f\"https://{ctx.browserHostName}/driver-proxy-api/o/0/{ctx.clusterId}/{port}/v1\"\n",
    "\n",
    "print(f\"\"\"\n",
    "driver_proxy_api = '{driver_proxy_api}'\n",
    "cluster_id = '{ctx.clusterId}'\n",
    "port = {port}\n",
    "\"\"\")"
   ]
  },
  {
   "cell_type": "code",
   "execution_count": 0,
   "metadata": {
    "application/vnd.databricks.v1+cell": {
     "cellMetadata": {
      "byteLimit": 2048000,
      "rowLimit": 10000
     },
     "inputWidgets": {},
     "nuid": "cbd84e66-2473-4bbe-9bb0-3753472bfe59",
     "showTitle": false,
     "tableResultSettingsMap": {},
     "title": ""
    }
   },
   "outputs": [
    {
     "output_type": "stream",
     "name": "stdout",
     "output_type": "stream",
     "text": [
      "2025-09-16 19:08:56.669768: E external/local_xla/xla/stream_executor/cuda/cuda_fft.cc:485] Unable to register cuFFT factory: Attempting to register factory for plugin cuFFT when one has already been registered\r\n2025-09-16 19:08:56.685518: E external/local_xla/xla/stream_executor/cuda/cuda_dnn.cc:8454] Unable to register cuDNN factory: Attempting to register factory for plugin cuDNN when one has already been registered\r\n2025-09-16 19:08:56.690218: E external/local_xla/xla/stream_executor/cuda/cuda_blas.cc:1452] Unable to register cuBLAS factory: Attempting to register factory for plugin cuBLAS when one has already been registered\r\n2025-09-16 19:08:56.702370: I tensorflow/core/platform/cpu_feature_guard.cc:210] This TensorFlow binary is optimized to use available CPU instructions in performance-critical operations.\r\nTo enable the following instructions: AVX2 FMA, in other operations, rebuild TensorFlow with the appropriate compiler flags.\r\nAttributeError: 'MessageFactory' object has no attribute 'GetPrototype'\r\nAttributeError: 'MessageFactory' object has no attribute 'GetPrototype'\r\nAttributeError: 'MessageFactory' object has no attribute 'GetPrototype'\r\nAttributeError: 'MessageFactory' object has no attribute 'GetPrototype'\r\n2025-09-16 19:09:00.081507: W tensorflow/compiler/tf2tensorrt/utils/py_utils.cc:38] TF-TRT Warning: Could not find TensorRT\r\nAttributeError: 'MessageFactory' object has no attribute 'GetPrototype'\r\nINFO 09-16 19:09:13 [__init__.py:241] Automatically detected platform cuda.\r\n\u001B[1;36m(APIServer pid=6210)\u001B[0;0m INFO 09-16 19:09:18 [api_server.py:1805] vLLM API server version 0.10.1.1\r\n\u001B[1;36m(APIServer pid=6210)\u001B[0;0m INFO 09-16 19:09:18 [utils.py:326] non-default args: {'model_tag': '/local_disk0/models/Qwen/Qwen3-235B-A22B-Instruct-2507-FP8', 'host': '0.0.0.0', 'port': 1111, 'model': '/local_disk0/models/Qwen/Qwen3-235B-A22B-Instruct-2507-FP8', 'max_model_len': 8192, 'enforce_eager': True, 'served_model_name': ['Qwen3-235B'], 'tensor_parallel_size': 8, 'enable_expert_parallel': True}\r\n\u001B[1;36m(APIServer pid=6210)\u001B[0;0m INFO 09-16 19:09:31 [__init__.py:711] Resolved architecture: Qwen3MoeForCausalLM\r\n\u001B[1;36m(APIServer pid=6210)\u001B[0;0m `torch_dtype` is deprecated! Use `dtype` instead!\r\n\u001B[1;36m(APIServer pid=6210)\u001B[0;0m INFO 09-16 19:09:31 [__init__.py:1750] Using max model len 8192\r\n\u001B[1;36m(APIServer pid=6210)\u001B[0;0m INFO 09-16 19:09:31 [scheduler.py:222] Chunked prefill is enabled with max_num_batched_tokens=2048.\r\n\u001B[1;36m(APIServer pid=6210)\u001B[0;0m INFO 09-16 19:09:31 [__init__.py:3565] Cudagraph is disabled under eager mode\r\n2025-09-16 19:09:36.551765: E external/local_xla/xla/stream_executor/cuda/cuda_fft.cc:485] Unable to register cuFFT factory: Attempting to register factory for plugin cuFFT when one has already been registered\r\n2025-09-16 19:09:36.567029: E external/local_xla/xla/stream_executor/cuda/cuda_dnn.cc:8454] Unable to register cuDNN factory: Attempting to register factory for plugin cuDNN when one has already been registered\r\n2025-09-16 19:09:36.571603: E external/local_xla/xla/stream_executor/cuda/cuda_blas.cc:1452] Unable to register cuBLAS factory: Attempting to register factory for plugin cuBLAS when one has already been registered\r\n2025-09-16 19:09:36.583023: I tensorflow/core/platform/cpu_feature_guard.cc:210] This TensorFlow binary is optimized to use available CPU instructions in performance-critical operations.\r\nTo enable the following instructions: AVX2 FMA, in other operations, rebuild TensorFlow with the appropriate compiler flags.\r\nAttributeError: 'MessageFactory' object has no attribute 'GetPrototype'\r\nAttributeError: 'MessageFactory' object has no attribute 'GetPrototype'\r\nAttributeError: 'MessageFactory' object has no attribute 'GetPrototype'\r\nAttributeError: 'MessageFactory' object has no attribute 'GetPrototype'\r\n2025-09-16 19:09:37.497857: W tensorflow/compiler/tf2tensorrt/utils/py_utils.cc:38] TF-TRT Warning: Could not find TensorRT\r\nAttributeError: 'MessageFactory' object has no attribute 'GetPrototype'\r\nINFO 09-16 19:09:40 [__init__.py:241] Automatically detected platform cuda.\r\n\u001B[1;36m(EngineCore_0 pid=6544)\u001B[0;0m INFO 09-16 19:09:43 [core.py:636] Waiting for init message from front-end.\r\n\u001B[1;36m(EngineCore_0 pid=6544)\u001B[0;0m INFO 09-16 19:09:43 [core.py:74] Initializing a V1 LLM engine (v0.10.1.1) with config: model='/local_disk0/models/Qwen/Qwen3-235B-A22B-Instruct-2507-FP8', speculative_config=None, tokenizer='/local_disk0/models/Qwen/Qwen3-235B-A22B-Instruct-2507-FP8', skip_tokenizer_init=False, tokenizer_mode=auto, revision=None, override_neuron_config={}, tokenizer_revision=None, trust_remote_code=False, dtype=torch.bfloat16, max_seq_len=8192, download_dir=None, load_format=auto, tensor_parallel_size=8, pipeline_parallel_size=1, disable_custom_all_reduce=False, quantization=fp8, enforce_eager=True, kv_cache_dtype=auto, device_config=cuda, decoding_config=DecodingConfig(backend='auto', disable_fallback=False, disable_any_whitespace=False, disable_additional_properties=False, reasoning_backend=''), observability_config=ObservabilityConfig(show_hidden_metrics_for_version=None, otlp_traces_endpoint=None, collect_detailed_traces=None), seed=0, served_model_name=Qwen3-235B, enable_prefix_caching=True, chunked_prefill_enabled=True, use_async_output_proc=True, pooler_config=None, compilation_config={\"level\":0,\"debug_dump_path\":\"\",\"cache_dir\":\"\",\"backend\":\"\",\"custom_ops\":[],\"splitting_ops\":null,\"use_inductor\":true,\"compile_sizes\":[],\"inductor_compile_config\":{\"enable_auto_functionalized_v2\":false},\"inductor_passes\":{},\"cudagraph_mode\":0,\"use_cudagraph\":true,\"cudagraph_num_of_warmups\":0,\"cudagraph_capture_sizes\":[],\"cudagraph_copy_inputs\":false,\"full_cuda_graph\":false,\"pass_config\":{},\"max_capture_size\":0,\"local_cache_dir\":null}\r\n\u001B[1;36m(EngineCore_0 pid=6544)\u001B[0;0m WARNING 09-16 19:09:43 [multiproc_worker_utils.py:273] Reducing Torch parallelism from 96 threads to 1 to avoid unnecessary CPU contention. Set OMP_NUM_THREADS in the external environment to tune this value as needed.\r\n\u001B[1;36m(EngineCore_0 pid=6544)\u001B[0;0m INFO 09-16 19:09:43 [shm_broadcast.py:289] vLLM message queue communication handle: Handle(local_reader_ranks=[0, 1, 2, 3, 4, 5, 6, 7], buffer_handle=(8, 16777216, 10, 'psm_855c086c'), local_subscribe_addr='ipc:///tmp/cf23e2c9-4640-4f89-8f9b-004d30499ab6', remote_subscribe_addr=None, remote_addr_ipv6=False)\r\n2025-09-16 19:09:48.442677: E external/local_xla/xla/stream_executor/cuda/cuda_fft.cc:485] Unable to register cuFFT factory: Attempting to register factory for plugin cuFFT when one has already been registered\r\n2025-09-16 19:09:48.458982: E external/local_xla/xla/stream_executor/cuda/cuda_dnn.cc:8454] Unable to register cuDNN factory: Attempting to register factory for plugin cuDNN when one has already been registered\r\n2025-09-16 19:09:48.463599: E external/local_xla/xla/stream_executor/cuda/cuda_blas.cc:1452] Unable to register cuBLAS factory: Attempting to register factory for plugin cuBLAS when one has already been registered\r\n2025-09-16 19:09:48.475551: I tensorflow/core/platform/cpu_feature_guard.cc:210] This TensorFlow binary is optimized to use available CPU instructions in performance-critical operations.\r\nTo enable the following instructions: AVX2 FMA, in other operations, rebuild TensorFlow with the appropriate compiler flags.\r\n2025-09-16 19:09:48.498701: E external/local_xla/xla/stream_executor/cuda/cuda_fft.cc:485] Unable to register cuFFT factory: Att2025-09-16 19:09:48.498701: E external/local_xla/xla/stream_executor/cuda/cuda_fft.cc:485] Unable to register cuFFT factory: Attempting to register factory for plugin cuFFT when one has already been registered\r\nempting to register factory for plugin cuFFT when one has already been registered\r\n2025-09-16 19:09:48.514433: E external/local_xla/xla/stream_executor/cuda/cuda_dnn.cc:8454] Unable to register cuDNN factory: At2025-09-16 19:09:48.514432: E external/local_xla/xla/stream_executor/cuda/cuda_dnn.cc:8454] Unable to register cuDNN factory: Attempting to register factory for plugin cuDNN when one has already been registered\r\ntempting to register factory for plugin cuDNN when one has already been registered\r\nAttributeError: 'MessageFactory' object has no attribute 'GetPrototype'\r\n2025-09-16 19:09:48.519166: E external/local_xla/xla/stream_executor/cuda/cuda_blas.cc:1452] Unable to register cuBLAS factory: Attempting to register factory for plugin cuBLAS when one has already been registered\r\n2025-09-16 19:09:48.519246: E external/local_xla/xla/stream_executor/cuda/cuda_blas.cc:1452] Unable to register cuBLAS factory: Attempting to register factory for plugin cuBLAS when one has already been registered\r\n2025-09-16 19:09:48.531725: I tensorflow/core/platform/cpu_feature_guard.cc:210] This TensorFlow binary is optimized to use available CPU instructions in performance-critical operations.\r\nTo enable the following instructions: AVX2 FMA, in other operations, rebuild TensorFlow with the appropriate compiler flags.\r\n2025-09-16 19:09:48.531745: I tensorflow/core/platform/cpu_feature_guard.cc:210] This TensorFlow binary is optimized to use available CPU instructions in performance-critical operations.\r\nTo enable the following instructions: AVX2 FMA, in other operations, rebuild TensorFlow with the appropriate compiler flags.\r\n2025-09-16 19:09:48.546984: E external/local_xla/xla/stream_executor/cuda/cuda_fft.cc:485] Unable to register cuFFT factory: Attempting to register factory for plugin cuFFT when one has already been registered\r\n2025-09-16 19:09:48.564168: E external/local_xla/xla/stream_executor/cuda/cuda_dnn.cc:8454] Unable to register cuDNN factory: Attempting to register factory for plugin cuDNN when one has already been registered\r\n2025-09-16 19:09:48.569029: E external/local_xla/xla/stream_executor/cuda/cuda_blas.cc:1452] Unable to register cuBLAS factory: Attempting to register factory for plugin cuBLAS when one has already been registered\r\nAttributeError: 'MessageFactory' object has no attribute 'GetPrototype'\r\n2025-09-16 19:09:48.574780: E external/local_xla/xla/stream_executor/cuda/cuda_fft.cc:485] Unable to register cuFFT factory: Attempting to register factory for plugin cuFFT when one has already been registered\r\nAttributeError: 'MessageFactory' object has no attribute 'GetPrototype'\r\nAttributeError: 'MessageFactory' object has no attribute 'GetPrototype'\r\n2025-09-16 19:09:48.581587: I tensorflow/core/platform/cpu_feature_guard.cc:210] This TensorFlow binary is optimized to use available CPU instructions in performance-critical operations.\r\nTo enable the following instructions: AVX2 FMA, in other operations, rebuild TensorFlow with the appropriate compiler flags.\r\n2025-09-16 19:09:48.591214: E external/local_xla/xla/stream_executor/cuda/cuda_dnn.cc:8454] Unable to register cuDNN factory: Attempting to register factory for plugin cuDNN when one has already been registered\r\n2025-09-16 19:09:48.595882: E external/local_xla/xla/stream_executor/cuda/cuda_blas.cc:1452] Unable to register cuBLAS factory: Attempting to register factory for plugin cuBLAS when one has already been registered\r\n2025-09-16 19:09:48.608063: I tensorflow/core/platform/cpu_feature_guard.cc:210] This TensorFlow binary is optimized to use available CPU instructions in performance-critical operations.\r\nTo enable the following instructions: AVX2 FMA, in other operations, rebuild TensorFlow with the appropriate compiler flags.\r\n2025-09-16 19:09:48.610903: E external/local_xla/xla/stream_executor/cuda/cuda_fft.cc:485] Unable to register cuFFT factory: Attempting to register factory for plugin cuFFT when one has already been registered\r\n2025-09-16 19:09:48.619939: E external/local_xla/xla/stream_executor/cuda/cuda_fft.cc:485] Unable to register cuFFT factory: Att2025-09-16 19:09:48.619937: E external/local_xla/xla/stream_executor/cuda/cuda_fft.cc:485] Unable to register cuFFT factory: Attempting to register factory for plugin cuFFT when one has already been registered\r\nempting to register factory for plugin cuFFT when one has already been registered\r\n2025-09-16 19:09:48.626476: E external/local_xla/xla/stream_executor/cuda/cuda_dnn.cc:8454] Unable to register cuDNN factory: Attempting to register factory for plugin cuDNN when one has already been registered\r\nAttributeError: 'MessageFactory' object has no attribute 'GetPrototype'\r\nAttributeError: 'MessageFactory' object has no attribute 'GetPrototype'\r\nAttributeError: 'MessageFactory' object has no attribute 'GetPrototype'\r\n2025-09-16 19:09:48.634325: E external/local_xla/xla/stream_executor/cuda/cuda_blas.cc:1452] Unable to register cuBLAS factory: Attempting to register factory for plugin cuBLAS when one has already been registered\r\n2025-09-16 19:09:48.635377: E external/local_xla/xla/stream_executor/cuda/cuda_dnn.cc:8454] Unable to register cuDNN factory: Attempting to register factory for plugin cuDNN when one has already been registered\r\n2025-09-16 19:09:48.638724: E external/local_xla/xla/stream_executor/cuda/cuda_dnn.cc:8454] Unable to register cuDNN factory: Attempting to register factory for plugin cuDNN when one has already been registered\r\n2025-09-16 19:09:48.639944: E external/local_xla/xla/stream_executor/cuda/cuda_blas.cc:1452] Unable to register cuBLAS factory: Attempting to register factory for plugin cuBLAS when one has already been registered\r\n2025-09-16 19:09:48.643354: E external/local_xla/xla/stream_executor/cuda/cuda_blas.cc:1452] Unable to register cuBLAS factory: Attempting to register factory for plugin cuBLAS when one has already been registered\r\n2025-09-16 19:09:48.646353: I tensorflow/core/platform/cpu_feature_guard.cc:210] This TensorFlow binary is optimized to use available CPU instructions in performance-critical operations.\r\nTo enable the following instructions: AVX2 FMA, in other operations, rebuild TensorFlow with the appropriate compiler flags.\r\n2025-09-16 19:09:48.651423: I tensorflow/core/platform/cpu_feature_guard.cc:210] This TensorFlow binary is optimized to use available CPU instructions in performance-critical operations.\r\nTo enable the following instructions: AVX2 FMA, in other operations, rebuild TensorFlow with the appropriate compiler flags.\r\nAttributeError: 'MessageFactory' object has no attribute 'GetPrototype'\r\n2025-09-16 19:09:48.654943: I tensorflow/core/platform/cpu_feature_guard.cc:210] This TensorFlow binary is optimized to use available CPU instructions in performance-critical operations.\r\nTo enable the following instructions: AVX2 FMA, in other operations, rebuild TensorFlow with the appropriate compiler flags.\r\nAttributeError: 'MessageFactory' object has no attribute 'GetPrototype'\r\nAttributeError: 'MessageFactory' object has no attribute 'GetPrototype'\r\nAttributeError: 'MessageFactory' object has no attribute 'GetPrototype'\r\nAttributeError: 'MessageFactory' object has no attribute 'GetPrototype'\r\nAttributeError: 'MessageFactory' object has no attribute 'GetPrototype'\r\nAttributeError: 'MessageFactory' object has no attribute 'GetPrototype'\r\nAttributeError: 'MessageFactory' object has no attribute 'GetPrototype'\r\nAttributeError: 'MessageFactory' object has no attribute 'GetPrototype'\r\nAttributeError: 'MessageFactory' object has no attribute 'GetPrototype'\r\nAttributeError: 'MessageFactory' object has no attribute 'GetPrototype'\r\nAttributeError: 'MessageFactory' object has no attribute 'GetPrototype'\r\nAttributeError: 'MessageFactory' object has no attribute 'GetPrototype'\r\nAttributeError: 'MessageFactory' object has no attribute 'GetPrototype'\r\nAttributeError: 'MessageFactory' object has no attribute 'GetPrototype'\r\nAttributeError: 'MessageFactory' object has no attribute 'GetPrototype'\r\n2025-09-16 19:09:49.440975: W tensorflow/compiler/tf2tensorrt/utils/py_utils.cc:38] TF-TRT Warning: Could not find TensorRT\r\nAttributeError: 'MessageFactory' object has no attribute 'GetPrototype'\r\nAttributeError: 'MessageFactory' object has no attribute 'GetPrototype'\r\nAttributeError: 'MessageFactory' object has no attribute 'GetPrototype'\r\n2025-09-16 19:09:49.485928: W tensorflow/compiler/tf2tensorrt/utils/py_utils.cc:38] TF-TRT Warning: Could not find TensorRT\r\nAttributeError: 'MessageFactory' object has no attribute 'GetPrototype'\r\n2025-09-16 19:09:49.560986: W tensorflow/compiler/tf2tensorrt/utils/py_utils.cc:38] TF-TRT Warning: Could not find TensorRT\r\nAttributeError: 'MessageFactory' object has no attribute 'GetPrototype'\r\n2025-09-16 19:09:49.571378: W tensorflow/compiler/tf2tensorrt/utils/py_utils.cc:38] TF-TRT Warning: Could not find TensorRT\r\nAttributeError: 'MessageFactory' object has no attribute 'GetPrototype'\r\n2025-09-16 19:09:49.590120: W tensorflow/compiler/tf2tensorrt/utils/py_utils.cc:38] TF-TRT Warning: Could not find TensorRT\r\nAttributeError: 'MessageFactory' object has no attribute 'GetPrototype'\r\n2025-09-16 19:09:49.688889: W tensorflow/compiler/tf2tensorrt/utils/py_utils.cc:38] TF-TRT Warning: Could not find TensorRT\r\nAttributeError: 'MessageFactory' object has no attribute 'GetPrototype'\r\nAttributeError: 'MessageFactory' object has no attribute 'GetPrototype'\r\n2025-09-16 19:09:49.708624: W tensorflow/compiler/tf2tensorrt/utils/py_utils.cc:38] TF-TRT Warning: Could not find TensorRT\r\n2025-09-16 19:09:49.709139: W tensorflow/compiler/tf2tensorrt/utils/py_utils.cc:38] TF-TRT Warning: Could not find TensorRT\r\nAttributeError: 'MessageFactory' object has no attribute 'GetPrototype'\r\nAttributeError: 'MessageFactory' object has no attribute 'GetPrototype'\r\nAttributeError: 'MessageFactory' object has no attribute 'GetPrototype'\r\nAttributeError: 'MessageFactory' object has no attribute 'GetPrototype'\r\nAttributeError: 'MessageFactory' object has no attribute 'GetPrototype'\r\nAttributeError: 'MessageFactory' object has no attribute 'GetPrototype'\r\nAttributeError: 'MessageFactory' object has no attribute 'GetPrototype'\r\nAttributeError: 'MessageFactory' object has no attribute 'GetPrototype'\r\nINFO 09-16 19:09:52 [__init__.py:241] Automatically detected platform cuda.\r\nINFO 09-16 19:09:52 [__init__.py:241] Automatically detected platform cuda.\r\nINFO 09-16 19:09:52 [__init__.py:241] Automatically detected platform cuda.\r\nINFO 09-16 19:09:52 [__init__.py:241] Automatically detected platform cuda.\r\nINFO 09-16 19:09:52 [__init__.py:241] Automatically detected platform cuda.\r\nINFO 09-16 19:09:52 [__init__.py:241] Automatically detected platform cuda.\r\nINFO 09-16 19:09:52 [__init__.py:241] Automatically detected platform cuda.\r\nINFO 09-16 19:09:52 [__init__.py:241] Automatically detected platform cuda.\r\n\u001B[1;36m(VllmWorker TP2 pid=6727)\u001B[0;0m INFO 09-16 19:10:00 [shm_broadcast.py:289] vLLM message queue communication handle: Handle(local_reader_ranks=[0], buffer_handle=(1, 10485760, 10, 'psm_5736dc42'), local_subscribe_addr='ipc:///tmp/fc36aa20-77f0-4d6f-974a-71da29c831ef', remote_subscribe_addr=None, remote_addr_ipv6=False)\r\n\u001B[1;36m(VllmWorker TP7 pid=6732)\u001B[0;0m INFO 09-16 19:10:00 [shm_broadcast.py:289] vLLM message queue communication handle: Handle(local_reader_ranks=[0], buffer_handle=(1, 10485760, 10, 'psm_a5e77035'), local_subscribe_addr='ipc:///tmp/afbade87-cfb9-4835-a59b-12d3971ae4d3', remote_subscribe_addr=None, remote_addr_ipv6=False)\r\n\u001B[1;36m(VllmWorker TP6 pid=6731)\u001B[0;0m INFO 09-16 19:10:00 [shm_broadcast.py:289] vLLM message queue communication handle: Handle(local_reader_ranks=[0], buffer_handle=(1, 10485760, 10, 'psm_e42f24f5'), local_subscribe_addr='ipc:///tmp/9c6f1819-79cc-4404-aa7e-457c7cb671b2', remote_subscribe_addr=None, remote_addr_ipv6=False)\r\n\u001B[1;36m(VllmWorker TP3 pid=6728)\u001B[0;0m INFO 09-16 19:10:00 [shm_broadcast.py:289] vLLM message queue communication handle: Handle(local_reader_ranks=[0], buffer_handle=(1, 10485760, 10, 'psm_abe878ae'), local_subscribe_addr='ipc:///tmp/d3158e87-3c56-47df-8111-3f486ac3ffa3', remote_subscribe_addr=None, remote_addr_ipv6=False)\r\n\u001B[1;36m(VllmWorker TP0 pid=6725)\u001B[0;0m INFO 09-16 19:10:00 [shm_broadcast.py:289] vLLM message queue communication handle: Handle(local_reader_ranks=[0], buffer_handle=(1, 10485760, 10, 'psm_db0751de'), local_subscribe_addr='ipc:///tmp/e13a1adb-bf69-4d9c-92b1-79ee0379a39c', remote_subscribe_addr=None, remote_addr_ipv6=False)\r\n\u001B[1;36m(VllmWorker TP5 pid=6730)\u001B[0;0m INFO 09-16 19:10:00 [shm_broadcast.py:289] vLLM message queue communication handle: Handle(local_reader_ranks=[0], buffer_handle=(1, 10485760, 10, 'psm_c3dd7c52'), local_subscribe_addr='ipc:///tmp/91e5fa4c-66cd-4ebd-838b-f4e138aa16cc', remote_subscribe_addr=None, remote_addr_ipv6=False)\r\n\u001B[1;36m(VllmWorker TP4 pid=6729)\u001B[0;0m INFO 09-16 19:10:00 [shm_broadcast.py:289] vLLM message queue communication handle: Handle(local_reader_ranks=[0], buffer_handle=(1, 10485760, 10, 'psm_0e9ec822'), local_subscribe_addr='ipc:///tmp/fe3b902b-8d5c-48e0-a680-b206aa5354f0', remote_subscribe_addr=None, remote_addr_ipv6=False)\r\n\u001B[1;36m(VllmWorker TP1 pid=6726)\u001B[0;0m INFO 09-16 19:10:00 [shm_broadcast.py:289] vLLM message queue communication handle: Handle(local_reader_ranks=[0], buffer_handle=(1, 10485760, 10, 'psm_239f8add'), local_subscribe_addr='ipc:///tmp/e8816859-4b60-4c50-b0ab-8b822fccebbb', remote_subscribe_addr=None, remote_addr_ipv6=False)\r\n\u001B[1;36m(VllmWorker TP0 pid=6725)\u001B[0;0m INFO 09-16 19:10:02 [__init__.py:1418] Found nccl from library libnccl.so.2\r\n\u001B[1;36m(VllmWorker TP7 pid=6732)\u001B[0;0m INFO 09-16 19:10:02 [__init__.py:1418] Found nccl from library libnccl.so.2\r\n\u001B[1;36m(VllmWorker TP4 pid=6729)\u001B[0;0m INFO 09-16 19:10:02 [__init__.py:1418] Found nccl from library libnccl.so.2\r\n\u001B[1;36m(VllmWorker TP5 pid=6730)\u001B[0;0m INFO 09-16 19:10:02 [__init__.py:1418] Found nccl from library libnccl.so.2\r\n\u001B[1;36m(VllmWorker TP2 pid=6727)\u001B[0;0m INFO 09-16 19:10:02 [__init__.py:1418] Found nccl from library libnccl.so.2\r\n\u001B[1;36m(VllmWorker TP7 pid=6732)\u001B[0;0m INFO 09-16 19:10:02 [pynccl.py:70] vLLM is using nccl==2.26.2\r\n\u001B[1;36m(VllmWorker TP4 pid=6729)\u001B[0;0m INFO 09-16 19:10:02 [pynccl.py:70] vLLM is using nccl==2.26.2\r\n\u001B[1;36m(VllmWorker TP0 pid=6725)\u001B[0;0m INFO 09-16 19:10:02 [pynccl.py:70] vLLM is using nccl==2.26.2\r\n\u001B[1;36m(VllmWorker TP1 pid=6726)\u001B[0;0m INFO 09-16 19:10:02 [__init__.py:1418] Found nccl from library libnccl.so.2\r\n\u001B[1;36m(VllmWorker TP3 pid=6728)\u001B[0;0m INFO 09-16 19:10:02 [__init__.py:1418] Found nccl from library libnccl.so.2\r\n\u001B[1;36m(VllmWorker TP5 pid=6730)\u001B[0;0m INFO 09-16 19:10:02 [pynccl.py:70] vLLM is using nccl==2.26.2\r\n\u001B[1;36m(VllmWorker TP2 pid=6727)\u001B[0;0m INFO 09-16 19:10:02 [pynccl.py:70] vLLM is using nccl==2.26.2\r\n\u001B[1;36m(VllmWorker TP1 pid=6726)\u001B[0;0m INFO 09-16 19:10:02 [pynccl.py:70] vLLM is using nccl==2.26.2\r\n\u001B[1;36m(VllmWorker TP6 pid=6731)\u001B[0;0m INFO 09-16 19:10:02 [__init__.py:1418] Found nccl from library libnccl.so.2\r\n\u001B[1;36m(VllmWorker TP3 pid=6728)\u001B[0;0m INFO 09-16 19:10:02 [pynccl.py:70] vLLM is using nccl==2.26.2\r\n\u001B[1;36m(VllmWorker TP6 pid=6731)\u001B[0;0m INFO 09-16 19:10:02 [pynccl.py:70] vLLM is using nccl==2.26.2\r\n\u001B[1;36m(VllmWorker TP0 pid=6725)\u001B[0;0m WARNING 09-16 19:10:02 [custom_all_reduce.py:137] Custom allreduce is disabled because it's not supported on more than two PCIe-only GPUs. To silence this warning, specify disable_custom_all_reduce=True explicitly.\r\n\u001B[1;36m(VllmWorker TP5 pid=6730)\u001B[0;0m WARNING 09-16 19:10:02 [custom_all_reduce.py:137] Custom allreduce is disabled because it's not supported on more than two PCIe-only GPUs. To silence this warning, specify disable_custom_all_reduce=True explicitly.\r\n\u001B[1;36m(VllmWorker TP4 pid=6729)\u001B[0;0m WARNING 09-16 19:10:02 [custom_all_reduce.py:137] Custom allreduce is disabled because it's not supported on more than two PCIe-only GPUs. To silence this warning, specify disable_custom_all_reduce=True explicitly.\r\n\u001B[1;36m(VllmWorker TP6 pid=6731)\u001B[0;0m WARNING 09-16 19:10:02 [custom_all_reduce.py:137] Custom allreduce is disabled because it's not supported on more than two PCIe-only GPUs. To silence this warning, specify disable_custom_all_reduce=True explicitly.\r\n\u001B[1;36m(VllmWorker TP7 pid=6732)\u001B[0;0m WARNING 09-16 19:10:02 [custom_all_reduce.py:137] Custom allreduce is disabled because it's not supported on more than two PCIe-only GPUs. To silence this warning, specify disable_custom_all_reduce=True explicitly.\r\n\u001B[1;36m(VllmWorker TP3 pid=6728)\u001B[0;0m WARNING 09-16 19:10:02 [custom_all_reduce.py:137] Custom allreduce is disabled because it's not supported on more than two PCIe-only GPUs. To silence this warning, specify disable_custom_all_reduce=True explicitly.\r\n\u001B[1;36m(VllmWorker TP2 pid=6727)\u001B[0;0m WARNING 09-16 19:10:02 [custom_all_reduce.py:137] Custom allreduce is disabled because it's not supported on more than two PCIe-only GPUs. To silence this warning, specify disable_custom_all_reduce=True explicitly.\r\n\u001B[1;36m(VllmWorker TP1 pid=6726)\u001B[0;0m WARNING 09-16 19:10:02 [custom_all_reduce.py:137] Custom allreduce is disabled because it's not supported on more than two PCIe-only GPUs. To silence this warning, specify disable_custom_all_reduce=True explicitly.\r\n\u001B[1;36m(VllmWorker TP0 pid=6725)\u001B[0;0m INFO 09-16 19\n\n*** WARNING: max output size exceeded, skipping output. ***\n\n)\u001B[0;0m INFO 09-16 19:17:41 [loggers.py:123] Engine 000: Avg prompt throughput: 0.0 tokens/s, Avg generation throughput: 0.0 tokens/s, Running: 0 reqs, Waiting: 0 reqs, GPU KV cache usage: 0.0%, Prefix cache hit rate: 21.9%\r\n\u001B[1;36m(APIServer pid=6210)\u001B[0;0m INFO 09-16 19:18:01 [loggers.py:123] Engine 000: Avg prompt throughput: 1.7 tokens/s, Avg generation throughput: 6.9 tokens/s, Running: 1 reqs, Waiting: 0 reqs, GPU KV cache usage: 0.0%, Prefix cache hit rate: 17.8%\r\n\u001B[1;36m(APIServer pid=6210)\u001B[0;0m INFO 09-16 19:18:11 [loggers.py:123] Engine 000: Avg prompt throughput: 0.0 tokens/s, Avg generation throughput: 7.0 tokens/s, Running: 1 reqs, Waiting: 0 reqs, GPU KV cache usage: 0.1%, Prefix cache hit rate: 17.8%\r\n\u001B[1;36m(APIServer pid=6210)\u001B[0;0m INFO 09-16 19:18:21 [loggers.py:123] Engine 000: Avg prompt throughput: 0.0 tokens/s, Avg generation throughput: 6.9 tokens/s, Running: 1 reqs, Waiting: 0 reqs, GPU KV cache usage: 0.1%, Prefix cache hit rate: 17.8%\r\n\u001B[1;36m(APIServer pid=6210)\u001B[0;0m \u001B[32mINFO\u001B[0m:     10.0.32.179:53384 - \"\u001B[1mPOST /v1/chat/completions HTTP/1.1\u001B[0m\" \u001B[32m200 OK\u001B[0m\r\n\u001B[1;36m(APIServer pid=6210)\u001B[0;0m INFO 09-16 19:18:31 [loggers.py:123] Engine 000: Avg prompt throughput: 0.0 tokens/s, Avg generation throughput: 4.8 tokens/s, Running: 0 reqs, Waiting: 0 reqs, GPU KV cache usage: 0.0%, Prefix cache hit rate: 17.8%\r\n\u001B[1;36m(APIServer pid=6210)\u001B[0;0m INFO 09-16 19:18:41 [loggers.py:123] Engine 000: Avg prompt throughput: 0.0 tokens/s, Avg generation throughput: 0.0 tokens/s, Running: 0 reqs, Waiting: 0 reqs, GPU KV cache usage: 0.0%, Prefix cache hit rate: 17.8%\r\n\u001B[1;36m(APIServer pid=6210)\u001B[0;0m \u001B[32mINFO\u001B[0m:     10.0.32.179:49720 - \"\u001B[1mPOST /v1/chat/completions HTTP/1.1\u001B[0m\" \u001B[32m200 OK\u001B[0m\r\n\u001B[1;36m(APIServer pid=6210)\u001B[0;0m INFO 09-16 19:19:11 [loggers.py:123] Engine 000: Avg prompt throughput: 1.3 tokens/s, Avg generation throughput: 5.8 tokens/s, Running: 0 reqs, Waiting: 0 reqs, GPU KV cache usage: 0.0%, Prefix cache hit rate: 15.5%\r\n\u001B[1;36m(APIServer pid=6210)\u001B[0;0m INFO 09-16 19:19:21 [loggers.py:123] Engine 000: Avg prompt throughput: 0.0 tokens/s, Avg generation throughput: 0.0 tokens/s, Running: 0 reqs, Waiting: 0 reqs, GPU KV cache usage: 0.0%, Prefix cache hit rate: 15.5%\r\n\u001B[1;36m(APIServer pid=6210)\u001B[0;0m INFO 09-16 19:19:51 [loggers.py:123] Engine 000: Avg prompt throughput: 1.3 tokens/s, Avg generation throughput: 2.9 tokens/s, Running: 1 reqs, Waiting: 0 reqs, GPU KV cache usage: 0.0%, Prefix cache hit rate: 13.8%\r\n\u001B[1;36m(APIServer pid=6210)\u001B[0;0m \u001B[32mINFO\u001B[0m:     10.0.32.179:58642 - \"\u001B[1mPOST /v1/chat/completions HTTP/1.1\u001B[0m\" \u001B[32m200 OK\u001B[0m\r\n\u001B[1;36m(APIServer pid=6210)\u001B[0;0m INFO 09-16 19:20:01 [loggers.py:123] Engine 000: Avg prompt throughput: 0.0 tokens/s, Avg generation throughput: 2.9 tokens/s, Running: 0 reqs, Waiting: 0 reqs, GPU KV cache usage: 0.0%, Prefix cache hit rate: 13.8%\r\n\u001B[1;36m(APIServer pid=6210)\u001B[0;0m INFO 09-16 19:20:11 [loggers.py:123] Engine 000: Avg prompt throughput: 0.0 tokens/s, Avg generation throughput: 0.0 tokens/s, Running: 0 reqs, Waiting: 0 reqs, GPU KV cache usage: 0.0%, Prefix cache hit rate: 13.8%\r\n\u001B[1;36m(APIServer pid=6210)\u001B[0;0m INFO 09-16 19:20:21 [loggers.py:123] Engine 000: Avg prompt throughput: 1.6 tokens/s, Avg generation throughput: 4.4 tokens/s, Running: 1 reqs, Waiting: 0 reqs, GPU KV cache usage: 0.0%, Prefix cache hit rate: 12.1%\r\n\u001B[1;36m(APIServer pid=6210)\u001B[0;0m \u001B[32mINFO\u001B[0m:     10.0.32.179:34270 - \"\u001B[1mPOST /v1/chat/completions HTTP/1.1\u001B[0m\" \u001B[32m200 OK\u001B[0m\r\n\u001B[1;36m(APIServer pid=6210)\u001B[0;0m INFO 09-16 19:20:31 [loggers.py:123] Engine 000: Avg prompt throughput: 0.0 tokens/s, Avg generation throughput: 1.4 tokens/s, Running: 0 reqs, Waiting: 0 reqs, GPU KV cache usage: 0.0%, Prefix cache hit rate: 12.1%\r\n\u001B[1;36m(APIServer pid=6210)\u001B[0;0m INFO 09-16 19:20:41 [loggers.py:123] Engine 000: Avg prompt throughput: 1.6 tokens/s, Avg generation throughput: 5.1 tokens/s, Running: 1 reqs, Waiting: 0 reqs, GPU KV cache usage: 0.0%, Prefix cache hit rate: 10.8%\r\n\u001B[1;36m(APIServer pid=6210)\u001B[0;0m \u001B[32mINFO\u001B[0m:     10.0.32.179:42968 - \"\u001B[1mPOST /v1/chat/completions HTTP/1.1\u001B[0m\" \u001B[32m200 OK\u001B[0m\r\n\u001B[1;36m(APIServer pid=6210)\u001B[0;0m INFO 09-16 19:20:51 [loggers.py:123] Engine 000: Avg prompt throughput: 0.0 tokens/s, Avg generation throughput: 0.7 tokens/s, Running: 0 reqs, Waiting: 0 reqs, GPU KV cache usage: 0.0%, Prefix cache hit rate: 10.8%\r\n\u001B[1;36m(APIServer pid=6210)\u001B[0;0m INFO 09-16 19:21:01 [loggers.py:123] Engine 000: Avg prompt throughput: 0.0 tokens/s, Avg generation throughput: 0.0 tokens/s, Running: 0 reqs, Waiting: 0 reqs, GPU KV cache usage: 0.0%, Prefix cache hit rate: 10.8%\r\n\u001B[1;36m(APIServer pid=6210)\u001B[0;0m INFO 09-16 19:21:51 [loggers.py:123] Engine 000: Avg prompt throughput: 19.6 tokens/s, Avg generation throughput: 2.6 tokens/s, Running: 1 reqs, Waiting: 0 reqs, GPU KV cache usage: 0.1%, Prefix cache hit rate: 4.7%\r\n\u001B[1;36m(APIServer pid=6210)\u001B[0;0m INFO 09-16 19:22:01 [loggers.py:123] Engine 000: Avg prompt throughput: 0.0 tokens/s, Avg generation throughput: 6.9 tokens/s, Running: 1 reqs, Waiting: 0 reqs, GPU KV cache usage: 0.1%, Prefix cache hit rate: 4.7%\r\n\u001B[1;36m(APIServer pid=6210)\u001B[0;0m INFO 09-16 19:22:11 [loggers.py:123] Engine 000: Avg prompt throughput: 0.0 tokens/s, Avg generation throughput: 6.9 tokens/s, Running: 1 reqs, Waiting: 0 reqs, GPU KV cache usage: 0.2%, Prefix cache hit rate: 4.7%\r\n\u001B[1;36m(APIServer pid=6210)\u001B[0;0m \u001B[32mINFO\u001B[0m:     10.0.32.179:59640 - \"\u001B[1mPOST /v1/chat/completions HTTP/1.1\u001B[0m\" \u001B[32m200 OK\u001B[0m\r\n\u001B[1;36m(APIServer pid=6210)\u001B[0;0m INFO 09-16 19:22:21 [loggers.py:123] Engine 000: Avg prompt throughput: 0.0 tokens/s, Avg generation throughput: 1.6 tokens/s, Running: 0 reqs, Waiting: 0 reqs, GPU KV cache usage: 0.0%, Prefix cache hit rate: 4.7%\r\n\u001B[1;36m(APIServer pid=6210)\u001B[0;0m INFO 09-16 19:22:31 [loggers.py:123] Engine 000: Avg prompt throughput: 0.0 tokens/s, Avg generation throughput: 0.0 tokens/s, Running: 0 reqs, Waiting: 0 reqs, GPU KV cache usage: 0.0%, Prefix cache hit rate: 4.7%\r\n\u001B[1;36m(APIServer pid=6210)\u001B[0;0m INFO 09-16 19:23:01 [loggers.py:123] Engine 000: Avg prompt throughput: 2.9 tokens/s, Avg generation throughput: 6.2 tokens/s, Running: 1 reqs, Waiting: 0 reqs, GPU KV cache usage: 0.0%, Prefix cache hit rate: 4.3%\r\n\u001B[1;36m(APIServer pid=6210)\u001B[0;0m INFO 09-16 19:23:11 [loggers.py:123] Engine 000: Avg prompt throughput: 0.0 tokens/s, Avg generation throughput: 7.0 tokens/s, Running: 1 reqs, Waiting: 0 reqs, GPU KV cache usage: 0.1%, Prefix cache hit rate: 4.3%\r\n\u001B[1;36m(APIServer pid=6210)\u001B[0;0m INFO 09-16 19:23:21 [loggers.py:123] Engine 000: Avg prompt throughput: 0.0 tokens/s, Avg generation throughput: 6.9 tokens/s, Running: 1 reqs, Waiting: 0 reqs, GPU KV cache usage: 0.1%, Prefix cache hit rate: 4.3%\r\n\u001B[1;36m(APIServer pid=6210)\u001B[0;0m INFO 09-16 19:23:31 [loggers.py:123] Engine 000: Avg prompt throughput: 0.0 tokens/s, Avg generation throughput: 7.0 tokens/s, Running: 1 reqs, Waiting: 0 reqs, GPU KV cache usage: 0.1%, Prefix cache hit rate: 4.3%\r\n\u001B[1;36m(APIServer pid=6210)\u001B[0;0m INFO 09-16 19:23:41 [loggers.py:123] Engine 000: Avg prompt throughput: 0.0 tokens/s, Avg generation throughput: 6.9 tokens/s, Running: 1 reqs, Waiting: 0 reqs, GPU KV cache usage: 0.2%, Prefix cache hit rate: 4.3%\r\n\u001B[1;36m(APIServer pid=6210)\u001B[0;0m INFO 09-16 19:23:51 [loggers.py:123] Engine 000: Avg prompt throughput: 0.0 tokens/s, Avg generation throughput: 7.0 tokens/s, Running: 1 reqs, Waiting: 0 reqs, GPU KV cache usage: 0.2%, Prefix cache hit rate: 4.3%\r\n\u001B[1;36m(APIServer pid=6210)\u001B[0;0m INFO 09-16 19:24:01 [loggers.py:123] Engine 000: Avg prompt throughput: 0.0 tokens/s, Avg generation throughput: 6.9 tokens/s, Running: 1 reqs, Waiting: 0 reqs, GPU KV cache usage: 0.2%, Prefix cache hit rate: 4.3%\r\n\u001B[1;36m(APIServer pid=6210)\u001B[0;0m INFO 09-16 19:24:11 [loggers.py:123] Engine 000: Avg prompt throughput: 0.0 tokens/s, Avg generation throughput: 7.0 tokens/s, Running: 1 reqs, Waiting: 0 reqs, GPU KV cache usage: 0.3%, Prefix cache hit rate: 4.3%\r\n\u001B[1;36m(APIServer pid=6210)\u001B[0;0m INFO 09-16 19:24:21 [loggers.py:123] Engine 000: Avg prompt throughput: 0.0 tokens/s, Avg generation throughput: 7.0 tokens/s, Running: 1 reqs, Waiting: 0 reqs, GPU KV cache usage: 0.3%, Prefix cache hit rate: 4.3%\r\n\u001B[1;36m(APIServer pid=6210)\u001B[0;0m INFO 09-16 19:24:31 [loggers.py:123] Engine 000: Avg prompt throughput: 0.0 tokens/s, Avg generation throughput: 6.9 tokens/s, Running: 1 reqs, Waiting: 0 reqs, GPU KV cache usage: 0.3%, Prefix cache hit rate: 4.3%\r\n\u001B[1;36m(APIServer pid=6210)\u001B[0;0m INFO 09-16 19:24:41 [loggers.py:123] Engine 000: Avg prompt throughput: 0.0 tokens/s, Avg generation throughput: 7.0 tokens/s, Running: 1 reqs, Waiting: 0 reqs, GPU KV cache usage: 0.3%, Prefix cache hit rate: 4.3%\r\n\u001B[1;36m(APIServer pid=6210)\u001B[0;0m \u001B[32mINFO\u001B[0m:     10.0.32.179:37812 - \"\u001B[1mPOST /v1/chat/completions HTTP/1.1\u001B[0m\" \u001B[32m200 OK\u001B[0m\r\n\u001B[1;36m(APIServer pid=6210)\u001B[0;0m INFO 09-16 19:24:51 [loggers.py:123] Engine 000: Avg prompt throughput: 0.0 tokens/s, Avg generation throughput: 3.5 tokens/s, Running: 0 reqs, Waiting: 0 reqs, GPU KV cache usage: 0.0%, Prefix cache hit rate: 4.3%\r\n\u001B[1;36m(APIServer pid=6210)\u001B[0;0m INFO 09-16 19:25:01 [loggers.py:123] Engine 000: Avg prompt throughput: 0.0 tokens/s, Avg generation throughput: 0.0 tokens/s, Running: 0 reqs, Waiting: 0 reqs, GPU KV cache usage: 0.0%, Prefix cache hit rate: 4.3%\r\n\u001B[1;36m(APIServer pid=6210)\u001B[0;0m INFO 09-16 19:27:51 [loggers.py:123] Engine 000: Avg prompt throughput: 2.9 tokens/s, Avg generation throughput: 6.0 tokens/s, Running: 1 reqs, Waiting: 0 reqs, GPU KV cache usage: 0.0%, Prefix cache hit rate: 8.0%\r\n\u001B[1;36m(APIServer pid=6210)\u001B[0;0m INFO 09-16 19:28:01 [loggers.py:123] Engine 000: Avg prompt throughput: 0.0 tokens/s, Avg generation throughput: 6.9 tokens/s, Running: 1 reqs, Waiting: 0 reqs, GPU KV cache usage: 0.1%, Prefix cache hit rate: 8.0%\r\n\u001B[1;36m(APIServer pid=6210)\u001B[0;0m INFO 09-16 19:28:11 [loggers.py:123] Engine 000: Avg prompt throughput: 0.0 tokens/s, Avg generation throughput: 7.0 tokens/s, Running: 1 reqs, Waiting: 0 reqs, GPU KV cache usage: 0.1%, Prefix cache hit rate: 8.0%\r\n\u001B[1;36m(APIServer pid=6210)\u001B[0;0m \u001B[32mINFO\u001B[0m:     10.0.32.179:45810 - \"\u001B[1mPOST /v1/chat/completions HTTP/1.1\u001B[0m\" \u001B[32m200 OK\u001B[0m\r\n\u001B[1;36m(APIServer pid=6210)\u001B[0;0m INFO 09-16 19:28:21 [loggers.py:123] Engine 000: Avg prompt throughput: 0.0 tokens/s, Avg generation throughput: 5.7 tokens/s, Running: 0 reqs, Waiting: 0 reqs, GPU KV cache usage: 0.0%, Prefix cache hit rate: 8.0%\r\n\u001B[1;36m(APIServer pid=6210)\u001B[0;0m INFO 09-16 19:28:31 [loggers.py:123] Engine 000: Avg prompt throughput: 0.0 tokens/s, Avg generation throughput: 0.0 tokens/s, Running: 0 reqs, Waiting: 0 reqs, GPU KV cache usage: 0.0%, Prefix cache hit rate: 8.0%\r\n\u001B[1;36m(APIServer pid=6210)\u001B[0;0m INFO 09-16 19:45:41 [loggers.py:123] Engine 000: Avg prompt throughput: 2.9 tokens/s, Avg generation throughput: 5.4 tokens/s, Running: 1 reqs, Waiting: 0 reqs, GPU KV cache usage: 0.0%, Prefix cache hit rate: 11.1%\r\n\u001B[1;36m(APIServer pid=6210)\u001B[0;0m INFO 09-16 19:45:51 [loggers.py:123] Engine 000: Avg prompt throughput: 0.0 tokens/s, Avg generation throughput: 6.9 tokens/s, Running: 1 reqs, Waiting: 0 reqs, GPU KV cache usage: 0.1%, Prefix cache hit rate: 11.1%\r\n\u001B[1;36m(APIServer pid=6210)\u001B[0;0m INFO 09-16 19:46:01 [loggers.py:123] Engine 000: Avg prompt throughput: 0.0 tokens/s, Avg generation throughput: 6.9 tokens/s, Running: 1 reqs, Waiting: 0 reqs, GPU KV cache usage: 0.1%, Prefix cache hit rate: 11.1%\r\n\u001B[1;36m(APIServer pid=6210)\u001B[0;0m \u001B[32mINFO\u001B[0m:     10.0.32.179:36822 - \"\u001B[1mPOST /v1/chat/completions HTTP/1.1\u001B[0m\" \u001B[32m200 OK\u001B[0m\r\n\u001B[1;36m(APIServer pid=6210)\u001B[0;0m INFO 09-16 19:46:11 [loggers.py:123] Engine 000: Avg prompt throughput: 0.0 tokens/s, Avg generation throughput: 6.4 tokens/s, Running: 0 reqs, Waiting: 0 reqs, GPU KV cache usage: 0.0%, Prefix cache hit rate: 11.1%\r\n\u001B[1;36m(APIServer pid=6210)\u001B[0;0m INFO 09-16 19:46:21 [loggers.py:123] Engine 000: Avg prompt throughput: 0.0 tokens/s, Avg generation throughput: 0.0 tokens/s, Running: 0 reqs, Waiting: 0 reqs, GPU KV cache usage: 0.0%, Prefix cache hit rate: 11.1%\r\n\u001B[1;36m(APIServer pid=6210)\u001B[0;0m INFO 09-16 19:46:31 [loggers.py:123] Engine 000: Avg prompt throughput: 2.9 tokens/s, Avg generation throughput: 2.7 tokens/s, Running: 1 reqs, Waiting: 0 reqs, GPU KV cache usage: 0.0%, Prefix cache hit rate: 13.9%\r\n\u001B[1;36m(APIServer pid=6210)\u001B[0;0m INFO 09-16 19:46:41 [loggers.py:123] Engine 000: Avg prompt throughput: 0.0 tokens/s, Avg generation throughput: 7.0 tokens/s, Running: 1 reqs, Waiting: 0 reqs, GPU KV cache usage: 0.1%, Prefix cache hit rate: 13.9%\r\n\u001B[1;36m(APIServer pid=6210)\u001B[0;0m \u001B[32mINFO\u001B[0m:     10.0.32.179:55110 - \"\u001B[1mPOST /v1/chat/completions HTTP/1.1\u001B[0m\" \u001B[32m200 OK\u001B[0m\r\n\u001B[1;36m(APIServer pid=6210)\u001B[0;0m INFO 09-16 19:46:51 [loggers.py:123] Engine 000: Avg prompt throughput: 0.0 tokens/s, Avg generation throughput: 3.1 tokens/s, Running: 0 reqs, Waiting: 0 reqs, GPU KV cache usage: 0.0%, Prefix cache hit rate: 13.9%\r\n\u001B[1;36m(APIServer pid=6210)\u001B[0;0m INFO 09-16 19:47:01 [loggers.py:123] Engine 000: Avg prompt throughput: 0.0 tokens/s, Avg generation throughput: 0.0 tokens/s, Running: 0 reqs, Waiting: 0 reqs, GPU KV cache usage: 0.0%, Prefix cache hit rate: 13.9%\r\n\u001B[1;36m(APIServer pid=6210)\u001B[0;0m INFO 09-16 19:48:21 [loggers.py:123] Engine 000: Avg prompt throughput: 1.7 tokens/s, Avg generation throughput: 6.8 tokens/s, Running: 1 reqs, Waiting: 0 reqs, GPU KV cache usage: 0.0%, Prefix cache hit rate: 13.4%\r\n\u001B[1;36m(APIServer pid=6210)\u001B[0;0m \u001B[32mINFO\u001B[0m:     10.0.32.179:56710 - \"\u001B[1mPOST /v1/chat/completions HTTP/1.1\u001B[0m\" \u001B[32m200 OK\u001B[0m\r\n\u001B[1;36m(APIServer pid=6210)\u001B[0;0m INFO 09-16 19:48:31 [loggers.py:123] Engine 000: Avg prompt throughput: 0.0 tokens/s, Avg generation throughput: 6.0 tokens/s, Running: 0 reqs, Waiting: 0 reqs, GPU KV cache usage: 0.0%, Prefix cache hit rate: 13.4%\r\n\u001B[1;36m(APIServer pid=6210)\u001B[0;0m INFO 09-16 19:48:41 [loggers.py:123] Engine 000: Avg prompt throughput: 0.0 tokens/s, Avg generation throughput: 0.0 tokens/s, Running: 0 reqs, Waiting: 0 reqs, GPU KV cache usage: 0.0%, Prefix cache hit rate: 13.4%\r\n\u001B[1;36m(APIServer pid=6210)\u001B[0;0m INFO 09-16 19:49:01 [loggers.py:123] Engine 000: Avg prompt throughput: 1.9 tokens/s, Avg generation throughput: 2.2 tokens/s, Running: 1 reqs, Waiting: 0 reqs, GPU KV cache usage: 0.0%, Prefix cache hit rate: 12.9%\r\n\u001B[1;36m(APIServer pid=6210)\u001B[0;0m INFO 09-16 19:49:11 [loggers.py:123] Engine 000: Avg prompt throughput: 0.0 tokens/s, Avg generation throughput: 7.0 tokens/s, Running: 1 reqs, Waiting: 0 reqs, GPU KV cache usage: 0.1%, Prefix cache hit rate: 12.9%\r\n\u001B[1;36m(APIServer pid=6210)\u001B[0;0m \u001B[32mINFO\u001B[0m:     10.0.32.179:55358 - \"\u001B[1mPOST /v1/chat/completions HTTP/1.1\u001B[0m\" \u001B[32m200 OK\u001B[0m\r\n\u001B[1;36m(APIServer pid=6210)\u001B[0;0m INFO 09-16 19:49:21 [loggers.py:123] Engine 000: Avg prompt throughput: 0.0 tokens/s, Avg generation throughput: 3.6 tokens/s, Running: 0 reqs, Waiting: 0 reqs, GPU KV cache usage: 0.0%, Prefix cache hit rate: 12.9%\r\n\u001B[1;36m(APIServer pid=6210)\u001B[0;0m INFO 09-16 19:49:31 [loggers.py:123] Engine 000: Avg prompt throughput: 0.0 tokens/s, Avg generation throughput: 0.0 tokens/s, Running: 0 reqs, Waiting: 0 reqs, GPU KV cache usage: 0.0%, Prefix cache hit rate: 12.9%\r\n\u001B[1;36m(APIServer pid=6210)\u001B[0;0m INFO 09-16 19:49:51 [loggers.py:123] Engine 000: Avg prompt throughput: 2.4 tokens/s, Avg generation throughput: 4.4 tokens/s, Running: 1 reqs, Waiting: 0 reqs, GPU KV cache usage: 0.0%, Prefix cache hit rate: 12.3%\r\n\u001B[1;36m(APIServer pid=6210)\u001B[0;0m INFO 09-16 19:50:01 [loggers.py:123] Engine 000: Avg prompt throughput: 0.0 tokens/s, Avg generation throughput: 6.9 tokens/s, Running: 1 reqs, Waiting: 0 reqs, GPU KV cache usage: 0.1%, Prefix cache hit rate: 12.3%\r\n\u001B[1;36m(APIServer pid=6210)\u001B[0;0m \u001B[32mINFO\u001B[0m:     10.0.32.179:36162 - \"\u001B[1mPOST /v1/chat/completions HTTP/1.1\u001B[0m\" \u001B[32m200 OK\u001B[0m\r\n\u001B[1;36m(APIServer pid=6210)\u001B[0;0m INFO 09-16 19:50:11 [loggers.py:123] Engine 000: Avg prompt throughput: 0.0 tokens/s, Avg generation throughput: 1.5 tokens/s, Running: 0 reqs, Waiting: 0 reqs, GPU KV cache usage: 0.0%, Prefix cache hit rate: 12.3%\r\n\u001B[1;36m(APIServer pid=6210)\u001B[0;0m INFO 09-16 19:50:21 [loggers.py:123] Engine 000: Avg prompt throughput: 0.0 tokens/s, Avg generation throughput: 0.0 tokens/s, Running: 0 reqs, Waiting: 0 reqs, GPU KV cache usage: 0.0%, Prefix cache hit rate: 12.3%\r\n\u001B[1;36m(APIServer pid=6210)\u001B[0;0m INFO 09-16 19:55:11 [loggers.py:123] Engine 000: Avg prompt throughput: 1.3 tokens/s, Avg generation throughput: 2.6 tokens/s, Running: 1 reqs, Waiting: 0 reqs, GPU KV cache usage: 0.0%, Prefix cache hit rate: 12.0%\r\n\u001B[1;36m(APIServer pid=6210)\u001B[0;0m INFO 09-16 19:55:21 [loggers.py:123] Engine 000: Avg prompt throughput: 0.0 tokens/s, Avg generation throughput: 7.0 tokens/s, Running: 1 reqs, Waiting: 0 reqs, GPU KV cache usage: 0.1%, Prefix cache hit rate: 12.0%\r\n\u001B[1;36m(APIServer pid=6210)\u001B[0;0m \u001B[32mINFO\u001B[0m:     10.0.32.179:55368 - \"\u001B[1mPOST /v1/chat/completions HTTP/1.1\u001B[0m\" \u001B[32m200 OK\u001B[0m\r\n\u001B[1;36m(APIServer pid=6210)\u001B[0;0m INFO 09-16 19:55:31 [loggers.py:123] Engine 000: Avg prompt throughput: 0.0 tokens/s, Avg generation throughput: 3.2 tokens/s, Running: 0 reqs, Waiting: 0 reqs, GPU KV cache usage: 0.0%, Prefix cache hit rate: 12.0%\r\n\u001B[1;36m(APIServer pid=6210)\u001B[0;0m INFO 09-16 19:55:41 [loggers.py:123] Engine 000: Avg prompt throughput: 0.0 tokens/s, Avg generation throughput: 0.0 tokens/s, Running: 0 reqs, Waiting: 0 reqs, GPU KV cache usage: 0.0%, Prefix cache hit rate: 12.0%\r\n\u001B[1;36m(APIServer pid=6210)\u001B[0;0m INFO 09-16 19:56:11 [loggers.py:123] Engine 000: Avg prompt throughput: 1.4 tokens/s, Avg generation throughput: 6.5 tokens/s, Running: 1 reqs, Waiting: 0 reqs, GPU KV cache usage: 0.0%, Prefix cache hit rate: 11.7%\r\n\u001B[1;36m(APIServer pid=6210)\u001B[0;0m \u001B[32mINFO\u001B[0m:     10.0.32.179:60848 - \"\u001B[1mPOST /v1/chat/completions HTTP/1.1\u001B[0m\" \u001B[32m200 OK\u001B[0m\r\n\u001B[1;36m(APIServer pid=6210)\u001B[0;0m INFO 09-16 19:56:21 [loggers.py:123] Engine 000: Avg prompt throughput: 0.0 tokens/s, Avg generation throughput: 6.3 tokens/s, Running: 0 reqs, Waiting: 0 reqs, GPU KV cache usage: 0.0%, Prefix cache hit rate: 11.7%\r\n\u001B[1;36m(APIServer pid=6210)\u001B[0;0m INFO 09-16 19:56:31 [loggers.py:123] Engine 000: Avg prompt throughput: 0.0 tokens/s, Avg generation throughput: 0.0 tokens/s, Running: 0 reqs, Waiting: 0 reqs, GPU KV cache usage: 0.0%, Prefix cache hit rate: 11.7%\r\n\u001B[1;36m(APIServer pid=6210)\u001B[0;0m INFO 09-16 19:56:41 [loggers.py:123] Engine 000: Avg prompt throughput: 1.6 tokens/s, Avg generation throughput: 3.4 tokens/s, Running: 1 reqs, Waiting: 0 reqs, GPU KV cache usage: 0.0%, Prefix cache hit rate: 11.4%\r\n\u001B[1;36m(APIServer pid=6210)\u001B[0;0m \u001B[32mINFO\u001B[0m:     10.0.32.179:32894 - \"\u001B[1mPOST /v1/chat/completions HTTP/1.1\u001B[0m\" \u001B[32m200 OK\u001B[0m\r\n\u001B[1;36m(APIServer pid=6210)\u001B[0;0m INFO 09-16 19:56:51 [loggers.py:123] Engine 000: Avg prompt throughput: 0.0 tokens/s, Avg generation throughput: 5.3 tokens/s, Running: 0 reqs, Waiting: 0 reqs, GPU KV cache usage: 0.0%, Prefix cache hit rate: 11.4%\r\n\u001B[1;36m(APIServer pid=6210)\u001B[0;0m INFO 09-16 19:57:01 [loggers.py:123] Engine 000: Avg prompt throughput: 0.0 tokens/s, Avg generation throughput: 0.0 tokens/s, Running: 0 reqs, Waiting: 0 reqs, GPU KV cache usage: 0.0%, Prefix cache hit rate: 11.4%\r\n\u001B[1;36m(APIServer pid=6210)\u001B[0;0m INFO 09-16 19:57:21 [loggers.py:123] Engine 000: Avg prompt throughput: 2.6 tokens/s, Avg generation throughput: 6.9 tokens/s, Running: 1 reqs, Waiting: 0 reqs, GPU KV cache usage: 0.0%, Prefix cache hit rate: 10.9%\r\n\u001B[1;36m(APIServer pid=6210)\u001B[0;0m \u001B[32mINFO\u001B[0m:     10.0.32.179:39962 - \"\u001B[1mPOST /v1/chat/completions HTTP/1.1\u001B[0m\" \u001B[32m200 OK\u001B[0m\r\n\u001B[1;36m(APIServer pid=6210)\u001B[0;0m INFO 09-16 19:57:31 [loggers.py:123] Engine 000: Avg prompt throughput: 0.0 tokens/s, Avg generation throughput: 3.2 tokens/s, Running: 0 reqs, Waiting: 0 reqs, GPU KV cache usage: 0.0%, Prefix cache hit rate: 10.9%\r\n\u001B[1;36m(APIServer pid=6210)\u001B[0;0m INFO 09-16 19:57:41 [loggers.py:123] Engine 000: Avg prompt throughput: 0.0 tokens/s, Avg generation throughput: 0.0 tokens/s, Running: 0 reqs, Waiting: 0 reqs, GPU KV cache usage: 0.0%, Prefix cache hit rate: 10.9%\r\n\u001B[1;36m(APIServer pid=6210)\u001B[0;0m INFO 09-16 19:58:11 [loggers.py:123] Engine 000: Avg prompt throughput: 2.2 tokens/s, Avg generation throughput: 4.9 tokens/s, Running: 1 reqs, Waiting: 0 reqs, GPU KV cache usage: 0.0%, Prefix cache hit rate: 10.5%\r\n\u001B[1;36m(APIServer pid=6210)\u001B[0;0m INFO 09-16 19:58:21 [loggers.py:123] Engine 000: Avg prompt throughput: 0.0 tokens/s, Avg generation throughput: 6.9 tokens/s, Running: 1 reqs, Waiting: 0 reqs, GPU KV cache usage: 0.1%, Prefix cache hit rate: 10.5%\r\n\u001B[1;36m(APIServer pid=6210)\u001B[0;0m \u001B[32mINFO\u001B[0m:     10.0.32.179:53908 - \"\u001B[1mPOST /v1/chat/completions HTTP/1.1\u001B[0m\" \u001B[32m200 OK\u001B[0m\r\n\u001B[1;36m(APIServer pid=6210)\u001B[0;0m INFO 09-16 19:58:31 [loggers.py:123] Engine 000: Avg prompt throughput: 2.2 tokens/s, Avg generation throughput: 2.3 tokens/s, Running: 1 reqs, Waiting: 0 reqs, GPU KV cache usage: 0.0%, Prefix cache hit rate: 10.1%\r\n\u001B[1;36m(APIServer pid=6210)\u001B[0;0m INFO 09-16 19:58:41 [loggers.py:123] Engine 000: Avg prompt throughput: 0.0 tokens/s, Avg generation throughput: 7.0 tokens/s, Running: 1 reqs, Waiting: 0 reqs, GPU KV cache usage: 0.1%, Prefix cache hit rate: 10.1%\r\n\u001B[1;36m(APIServer pid=6210)\u001B[0;0m \u001B[32mINFO\u001B[0m:     10.0.32.179:54646 - \"\u001B[1mPOST /v1/chat/completions HTTP/1.1\u001B[0m\" \u001B[32m200 OK\u001B[0m\r\n\u001B[1;36m(APIServer pid=6210)\u001B[0;0m INFO 09-16 19:58:51 [loggers.py:123] Engine 000: Avg prompt throughput: 0.0 tokens/s, Avg generation throughput: 4.5 tokens/s, Running: 0 reqs, Waiting: 0 reqs, GPU KV cache usage: 0.0%, Prefix cache hit rate: 10.1%\r\n\u001B[1;36m(APIServer pid=6210)\u001B[0;0m INFO 09-16 19:59:01 [loggers.py:123] Engine 000: Avg prompt throughput: 0.0 tokens/s, Avg generation throughput: 0.0 tokens/s, Running: 0 reqs, Waiting: 0 reqs, GPU KV cache usage: 0.0%, Prefix cache hit rate: 10.1%\r\n\u001B[1;36m(APIServer pid=6210)\u001B[0;0m INFO 09-16 19:59:51 [loggers.py:123] Engine 000: Avg prompt throughput: 1.6 tokens/s, Avg generation throughput: 2.6 tokens/s, Running: 1 reqs, Waiting: 0 reqs, GPU KV cache usage: 0.0%, Prefix cache hit rate: 9.9%\r\n\u001B[1;36m(APIServer pid=6210)\u001B[0;0m INFO 09-16 20:00:01 [loggers.py:123] Engine 000: Avg prompt throughput: 0.0 tokens/s, Avg generation throughput: 7.0 tokens/s, Running: 1 reqs, Waiting: 0 reqs, GPU KV cache usage: 0.1%, Prefix cache hit rate: 9.9%\r\n\u001B[1;36m(APIServer pid=6210)\u001B[0;0m \u001B[32mINFO\u001B[0m:     10.0.32.179:60816 - \"\u001B[1mPOST /v1/chat/completions HTTP/1.1\u001B[0m\" \u001B[32m200 OK\u001B[0m\r\n\u001B[1;36m(APIServer pid=6210)\u001B[0;0m INFO 09-16 20:00:11 [loggers.py:123] Engine 000: Avg prompt throughput: 0.0 tokens/s, Avg generation throughput: 3.2 tokens/s, Running: 0 reqs, Waiting: 0 reqs, GPU KV cache usage: 0.0%, Prefix cache hit rate: 9.9%\r\n\u001B[1;36m(APIServer pid=6210)\u001B[0;0m INFO 09-16 20:00:21 [loggers.py:123] Engine 000: Avg prompt throughput: 0.0 tokens/s, Avg generation throughput: 0.0 tokens/s, Running: 0 reqs, Waiting: 0 reqs, GPU KV cache usage: 0.0%, Prefix cache hit rate: 9.9%\r\n\u001B[1;36m(APIServer pid=6210)\u001B[0;0m INFO 09-16 20:01:31 [loggers.py:123] Engine 000: Avg prompt throughput: 1.4 tokens/s, Avg generation throughput: 6.5 tokens/s, Running: 1 reqs, Waiting: 0 reqs, GPU KV cache usage: 0.0%, Prefix cache hit rate: 9.7%\r\n\u001B[1;36m(APIServer pid=6210)\u001B[0;0m \u001B[32mINFO\u001B[0m:     10.0.32.179:42780 - \"\u001B[1mPOST /v1/chat/completions HTTP/1.1\u001B[0m\" \u001B[32m200 OK\u001B[0m\r\n\u001B[1;36m(APIServer pid=6210)\u001B[0;0m INFO 09-16 20:01:41 [loggers.py:123] Engine 000: Avg prompt throughput: 0.0 tokens/s, Avg generation throughput: 2.0 tokens/s, Running: 0 reqs, Waiting: 0 reqs, GPU KV cache usage: 0.0%, Prefix cache hit rate: 9.7%\r\n\u001B[1;36m(APIServer pid=6210)\u001B[0;0m INFO 09-16 20:01:51 [loggers.py:123] Engine 000: Avg prompt throughput: 0.0 tokens/s, Avg generation throughput: 0.0 tokens/s, Running: 0 reqs, Waiting: 0 reqs, GPU KV cache usage: 0.0%, Prefix cache hit rate: 9.7%\r\n\u001B[1;36m(APIServer pid=6210)\u001B[0;0m INFO 09-16 20:04:01 [loggers.py:123] Engine 000: Avg prompt throughput: 1.7 tokens/s, Avg generation throughput: 4.3 tokens/s, Running: 1 reqs, Waiting: 0 reqs, GPU KV cache usage: 0.0%, Prefix cache hit rate: 9.4%\r\n\u001B[1;36m(APIServer pid=6210)\u001B[0;0m \u001B[32mINFO\u001B[0m:     10.0.32.179:58504 - \"\u001B[1mPOST /v1/chat/completions HTTP/1.1\u001B[0m\" \u001B[32m200 OK\u001B[0m\r\n\u001B[1;36m(APIServer pid=6210)\u001B[0;0m INFO 09-16 20:04:11 [loggers.py:123] Engine 000: Avg prompt throughput: 0.0 tokens/s, Avg generation throughput: 1.1 tokens/s, Running: 0 reqs, Waiting: 0 reqs, GPU KV cache usage: 0.0%, Prefix cache hit rate: 9.4%\r\n\u001B[1;36m(APIServer pid=6210)\u001B[0;0m INFO 09-16 20:04:21 [loggers.py:123] Engine 000: Avg prompt throughput: 0.0 tokens/s, Avg generation throughput: 0.0 tokens/s, Running: 0 reqs, Waiting: 0 reqs, GPU KV cache usage: 0.0%, Prefix cache hit rate: 9.4%\r\n"
     ]
    }
   ],
   "source": [
    "# see https://docs.vllm.ai/en/stable/cli/serve.html for full options. (remove enforce eager for max thoughput and tune cuda graphs depending on memory available)\n",
    "!vllm serve /local_disk0/models/Qwen/Qwen3-235B-A22B-Instruct-2507-FP8 --max-model-len 8192 --enforce-eager --port 1111 --host 0.0.0.0 --enable-expert-parallel --served-model-name Qwen3-235B --tensor-parallel-size 8"
   ]
  },
  {
   "cell_type": "code",
   "execution_count": 0,
   "metadata": {
    "application/vnd.databricks.v1+cell": {
     "cellMetadata": {
      "byteLimit": 2048000,
      "rowLimit": 10000
     },
     "inputWidgets": {},
     "nuid": "8bbc1d57-5de2-4551-940f-db16ab73485c",
     "showTitle": false,
     "tableResultSettingsMap": {},
     "title": ""
    }
   },
   "outputs": [],
   "source": []
  }
 ],
 "metadata": {
  "application/vnd.databricks.v1+notebook": {
   "computePreferences": {
    "hardware": {
     "accelerator": null,
     "gpuPoolId": null,
     "memory": null
    }
   },
   "dashboards": [],
   "environmentMetadata": {
    "base_environment": "",
    "environment_version": "3"
   },
   "inputWidgetPreferences": null,
   "language": "python",
   "notebookMetadata": {
    "pythonIndentUnit": 2
   },
   "notebookName": "all-purpose vllm qwen3 235b a22b - host",
   "widgets": {}
  },
  "language_info": {
   "name": "python"
  }
 },
 "nbformat": 4,
 "nbformat_minor": 0
}