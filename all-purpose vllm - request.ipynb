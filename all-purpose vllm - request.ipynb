{
 "cells": [
  {
   "cell_type": "markdown",
   "metadata": {
    "application/vnd.databricks.v1+cell": {
     "cellMetadata": {},
     "inputWidgets": {},
     "nuid": "e0861f9c-f8bd-43f6-b176-e8c8411cea08",
     "showTitle": false,
     "tableResultSettingsMap": {},
     "title": ""
    }
   },
   "source": [
    "The goal of this notebook is send requests to the all-purpose vllm qwen3 235b a22b - host notebook.\n",
    "- The original author of this notebook is [Srinivas Billa](https://github.com/nivibilla).\n",
    "- Connect this notebook to the same all-purpose cluster as the notebook \"all-purpose vllm qwen3 235b a22b - host\"."
   ]
  },
  {
   "cell_type": "code",
   "execution_count": 0,
   "metadata": {
    "application/vnd.databricks.v1+cell": {
     "cellMetadata": {
      "byteLimit": 2048000,
      "rowLimit": 10000
     },
     "inputWidgets": {},
     "nuid": "6965a9f4-d1de-4e77-bcb1-da54dc68e655",
     "showTitle": false,
     "tableResultSettingsMap": {},
     "title": ""
    }
   },
   "outputs": [
    {
     "data": {
      "text/plain": [
       "SyncPage[Model](data=[Model(id='Qwen3-235B', created=1758050058, object='model', owned_by='vllm', root='/local_disk0/models/Qwen/Qwen3-235B-A22B-Instruct-2507-FP8', parent=None, max_model_len=8192, permission=[{'id': 'modelperm-8b8bfe99f72a42bf95e6cfa0f7e5b5e6', 'object': 'model_permission', 'created': 1758050058, 'allow_create_engine': False, 'allow_sampling': True, 'allow_logprobs': True, 'allow_search_indices': False, 'allow_view': True, 'allow_fine_tuning': False, 'organization': '*', 'group': None, 'is_blocking': False}])], object='list')"
      ]
     },
     "execution_count": 1,
     "metadata": {},
     "output_type": "execute_result"
    }
   ],
   "source": [
    "from openai import OpenAI\n",
    "\n",
    "client = OpenAI(\n",
    "    api_key=\"Databricks_PAT_TOKEN\",\n",
    "    base_url=\"https://yourdatabricks_workspace.cloud.databricks.com/driver-proxy-api/o/0/0915-194316-vqbbk5bl/1111/v1\"\n",
    ")\n",
    "\n",
    "client.models.list()"
   ]
  },
  {
   "cell_type": "code",
   "execution_count": 0,
   "metadata": {
    "application/vnd.databricks.v1+cell": {
     "cellMetadata": {
      "byteLimit": 2048000,
      "rowLimit": 10000
     },
     "inputWidgets": {},
     "nuid": "c6d8dce6-9aad-48bb-a74e-c465a07d1b04",
     "showTitle": false,
     "tableResultSettingsMap": {},
     "title": ""
    }
   },
   "outputs": [
    {
     "name": "stdout",
     "output_type": "stream",
     "text": [
      "I am unable to access the internet in real-time. My training data comes entirely from the historical accumulation within Alibaba Group and does not include real-time internet information. If you have any questions, I will do my best to assist you based on the knowledge I have.\n"
     ]
    },
    {
     "data": {
      "application/databricks.mlflow.trace": "\"tr-e71433beea0a44b889699c12845e540a\"",
      "text/plain": [
       "Trace(request_id=tr-e71433beea0a44b889699c12845e540a)"
      ]
     },
     "metadata": {},
     "output_type": "display_data"
    }
   ],
   "source": [
    "from openai import OpenAI\n",
    "\n",
    "client = OpenAI(\n",
    "    api_key=\"Databricks_PAT_TOKEN\",\n",
    "    base_url=\"https://yourdatabricks_workspace.cloud.databricks.com/driver-proxy-api/o/0/0915-194316-vqbbk5bl/1111/v1\"\n",
    ")\n",
    "\n",
    "# Use the served model name, NOT the full path\n",
    "response = client.chat.completions.create(\n",
    "    model=\"Qwen3-235B\", \n",
    "    messages=[{\"role\": \"user\", \"content\": \"can you access the internet now or not?\"}],\n",
    "    max_tokens=128,\n",
    "    temperature=0,\n",
    "    top_p=1.0,\n",
    ")\n",
    "answer = response.choices[0].message.content\n",
    "print(answer)\n"
   ]
  }
 ],
 "metadata": {
  "application/vnd.databricks.v1+notebook": {
   "computePreferences": null,
   "dashboards": [],
   "environmentMetadata": {
    "base_environment": "",
    "environment_version": "3"
   },
   "inputWidgetPreferences": null,
   "language": "python",
   "notebookMetadata": {
    "pythonIndentUnit": 2
   },
   "notebookName": "all-purpose vllm - request",
   "widgets": {}
  },
  "language_info": {
   "name": "python"
  }
 },
 "nbformat": 4,
 "nbformat_minor": 0
}
